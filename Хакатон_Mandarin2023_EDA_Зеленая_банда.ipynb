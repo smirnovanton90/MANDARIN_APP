{
  "nbformat": 4,
  "nbformat_minor": 0,
  "metadata": {
    "colab": {
      "provenance": []
    },
    "kernelspec": {
      "name": "python3",
      "display_name": "Python 3"
    },
    "language_info": {
      "name": "python"
    }
  },
  "cells": [
    {
      "cell_type": "markdown",
      "source": [
        "# Загрузка и предобработка данных"
      ],
      "metadata": {
        "id": "7Rk5bVTq12xH"
      }
    },
    {
      "cell_type": "code",
      "execution_count": 157,
      "metadata": {
        "id": "5m1hg6k_ANze"
      },
      "outputs": [],
      "source": [
        "#!pip install -U scikit-learn\n",
        "\n",
        "import pandas as pd\n",
        "import numpy as np\n",
        "import matplotlib as plt\n",
        "import seaborn as sns\n",
        "import pickle\n",
        "import sklearn\n",
        "\n",
        "# Модели\n",
        "from sklearn.ensemble import RandomForestClassifier\n",
        "from sklearn.model_selection import train_test_split\n",
        "from sklearn.metrics import accuracy_score, precision_score, recall_score, f1_score, precision_recall_fscore_support, confusion_matrix\n",
        "import keras\n",
        "\n",
        "from datetime import datetime as dt"
      ]
    },
    {
      "cell_type": "code",
      "source": [
        "from google.colab import drive\n",
        "drive.mount('/content/drive')"
      ],
      "metadata": {
        "id": "S_jQ6-mw4SAt",
        "colab": {
          "base_uri": "https://localhost:8080/",
          "height": 0
        },
        "outputId": "42d7042e-111d-4956-9bc7-07d30512192a"
      },
      "execution_count": 158,
      "outputs": [
        {
          "output_type": "stream",
          "name": "stdout",
          "text": [
            "Drive already mounted at /content/drive; to attempt to forcibly remount, call drive.mount(\"/content/drive\", force_remount=True).\n"
          ]
        }
      ]
    },
    {
      "cell_type": "code",
      "source": [
        "df = pd.read_csv('SF_Mandarin_dataset_ver3_csv.csv', delimiter=';')"
      ],
      "metadata": {
        "id": "dXuzedizApui"
      },
      "execution_count": 159,
      "outputs": []
    },
    {
      "cell_type": "code",
      "source": [
        "df"
      ],
      "metadata": {
        "id": "Wfhllq_pAzUO",
        "colab": {
          "base_uri": "https://localhost:8080/",
          "height": 423
        },
        "outputId": "eff99c13-3268-4269-9ccb-c6369fc566e3"
      },
      "execution_count": 160,
      "outputs": [
        {
          "output_type": "execute_result",
          "data": {
            "text/plain": [
              "      SkillFactory_Id                    BirthDate            education  \\\n",
              "0                 1.0  1988-07-21 00:00:00.0000000  Высшее - специалист   \n",
              "1                 2.0  1998-01-16 00:00:00.0000000  Высшее - специалист   \n",
              "2                 3.0  1972-10-02 00:00:00.0000000  Высшее - специалист   \n",
              "3                 4.0  1972-10-02 00:00:00.0000000  Высшее - специалист   \n",
              "4                 5.0  1972-10-02 00:00:00.0000000  Высшее - специалист   \n",
              "...               ...                          ...                  ...   \n",
              "8782              NaN                          NaN                  NaN   \n",
              "8783              NaN                          NaN                  NaN   \n",
              "8784              NaN                          NaN                  NaN   \n",
              "8785              NaN                          NaN                  NaN   \n",
              "8786              NaN                          NaN                  NaN   \n",
              "\n",
              "                               employment status           Value  \\\n",
              "0     Работаю по найму полный рабочий день/служу      9 - 10 лет   \n",
              "1                               Собственное дело      1 - 2 года   \n",
              "2     Работаю по найму полный рабочий день/служу  10 и более лет   \n",
              "3     Работаю по найму полный рабочий день/служу  10 и более лет   \n",
              "4     Работаю по найму полный рабочий день/служу  10 и более лет   \n",
              "...                                          ...             ...   \n",
              "8782                                         NaN             NaN   \n",
              "8783                                         NaN             NaN   \n",
              "8784                                         NaN             NaN   \n",
              "8785                                         NaN             NaN   \n",
              "8786                                         NaN             NaN   \n",
              "\n",
              "                     JobStartDate     Position  MonthProfit  MonthExpense  \\\n",
              "0     2013-09-01 00:00:00.0000000  начальник п     180000.0       90000.0   \n",
              "1     2022-12-01 00:00:00.0000000     директор     200000.0       60000.0   \n",
              "2     2005-12-01 00:00:00.0000000     ДИРЕКТОР     300000.0       45000.0   \n",
              "3     2005-12-01 00:00:00.0000000     ДИРЕКТОР     300000.0       45000.0   \n",
              "4     2005-12-01 00:00:00.0000000     ДИРЕКТОР     300000.0       45000.0   \n",
              "...                           ...          ...          ...           ...   \n",
              "8782                          NaN          NaN          NaN           NaN   \n",
              "8783                          NaN          NaN          NaN           NaN   \n",
              "8784                          NaN          NaN          NaN           NaN   \n",
              "8785                          NaN          NaN          NaN           NaN   \n",
              "8786                          NaN          NaN          NaN           NaN   \n",
              "\n",
              "      Gender  ... SNILS  BankA_decision  BankB_decision BankC_decision  \\\n",
              "0        0.0  ...   0.0         success         success        success   \n",
              "1        0.0  ...   0.0         success          denied        success   \n",
              "2        1.0  ...   0.0          denied          denied        success   \n",
              "3        1.0  ...   0.0         success          denied        success   \n",
              "4        1.0  ...   0.0         success          denied        success   \n",
              "...      ...  ...   ...             ...             ...            ...   \n",
              "8782     NaN  ...   NaN             NaN             NaN            NaN   \n",
              "8783     NaN  ...   NaN             NaN             NaN            NaN   \n",
              "8784     NaN  ...   NaN             NaN             NaN            NaN   \n",
              "8785     NaN  ...   NaN             NaN             NaN            NaN   \n",
              "8786     NaN  ...   NaN             NaN             NaN            NaN   \n",
              "\n",
              "     BankD_decision BankE_decision Merch_code Loan_amount  Loan_term  \\\n",
              "0           success         denied       77.0    137000.0       18.0   \n",
              "1            denied        success       27.0     33000.0        6.0   \n",
              "2           success        success       19.0    165000.0       24.0   \n",
              "3           success        success       34.0     67000.0       12.0   \n",
              "4           success        success       75.0     36000.0        6.0   \n",
              "...             ...            ...        ...         ...        ...   \n",
              "8782            NaN            NaN        NaN         NaN        NaN   \n",
              "8783            NaN            NaN        NaN         NaN        NaN   \n",
              "8784            NaN            NaN        NaN         NaN        NaN   \n",
              "8785            NaN            NaN        NaN         NaN        NaN   \n",
              "8786            NaN            NaN        NaN         NaN        NaN   \n",
              "\n",
              "        Goods_category  \n",
              "0            Furniture  \n",
              "1              Fitness  \n",
              "2     Medical_services  \n",
              "3            Education  \n",
              "4            Furniture  \n",
              "...                ...  \n",
              "8782               NaN  \n",
              "8783               NaN  \n",
              "8784               NaN  \n",
              "8785               NaN  \n",
              "8786               NaN  \n",
              "\n",
              "[8787 rows x 22 columns]"
            ],
            "text/html": [
              "\n",
              "  <div id=\"df-259aaa68-6bac-4301-995a-6b7f107c14b6\" class=\"colab-df-container\">\n",
              "    <div>\n",
              "<style scoped>\n",
              "    .dataframe tbody tr th:only-of-type {\n",
              "        vertical-align: middle;\n",
              "    }\n",
              "\n",
              "    .dataframe tbody tr th {\n",
              "        vertical-align: top;\n",
              "    }\n",
              "\n",
              "    .dataframe thead th {\n",
              "        text-align: right;\n",
              "    }\n",
              "</style>\n",
              "<table border=\"1\" class=\"dataframe\">\n",
              "  <thead>\n",
              "    <tr style=\"text-align: right;\">\n",
              "      <th></th>\n",
              "      <th>SkillFactory_Id</th>\n",
              "      <th>BirthDate</th>\n",
              "      <th>education</th>\n",
              "      <th>employment status</th>\n",
              "      <th>Value</th>\n",
              "      <th>JobStartDate</th>\n",
              "      <th>Position</th>\n",
              "      <th>MonthProfit</th>\n",
              "      <th>MonthExpense</th>\n",
              "      <th>Gender</th>\n",
              "      <th>...</th>\n",
              "      <th>SNILS</th>\n",
              "      <th>BankA_decision</th>\n",
              "      <th>BankB_decision</th>\n",
              "      <th>BankC_decision</th>\n",
              "      <th>BankD_decision</th>\n",
              "      <th>BankE_decision</th>\n",
              "      <th>Merch_code</th>\n",
              "      <th>Loan_amount</th>\n",
              "      <th>Loan_term</th>\n",
              "      <th>Goods_category</th>\n",
              "    </tr>\n",
              "  </thead>\n",
              "  <tbody>\n",
              "    <tr>\n",
              "      <th>0</th>\n",
              "      <td>1.0</td>\n",
              "      <td>1988-07-21 00:00:00.0000000</td>\n",
              "      <td>Высшее - специалист</td>\n",
              "      <td>Работаю по найму полный рабочий день/служу</td>\n",
              "      <td>9 - 10 лет</td>\n",
              "      <td>2013-09-01 00:00:00.0000000</td>\n",
              "      <td>начальник п</td>\n",
              "      <td>180000.0</td>\n",
              "      <td>90000.0</td>\n",
              "      <td>0.0</td>\n",
              "      <td>...</td>\n",
              "      <td>0.0</td>\n",
              "      <td>success</td>\n",
              "      <td>success</td>\n",
              "      <td>success</td>\n",
              "      <td>success</td>\n",
              "      <td>denied</td>\n",
              "      <td>77.0</td>\n",
              "      <td>137000.0</td>\n",
              "      <td>18.0</td>\n",
              "      <td>Furniture</td>\n",
              "    </tr>\n",
              "    <tr>\n",
              "      <th>1</th>\n",
              "      <td>2.0</td>\n",
              "      <td>1998-01-16 00:00:00.0000000</td>\n",
              "      <td>Высшее - специалист</td>\n",
              "      <td>Собственное дело</td>\n",
              "      <td>1 - 2 года</td>\n",
              "      <td>2022-12-01 00:00:00.0000000</td>\n",
              "      <td>директор</td>\n",
              "      <td>200000.0</td>\n",
              "      <td>60000.0</td>\n",
              "      <td>0.0</td>\n",
              "      <td>...</td>\n",
              "      <td>0.0</td>\n",
              "      <td>success</td>\n",
              "      <td>denied</td>\n",
              "      <td>success</td>\n",
              "      <td>denied</td>\n",
              "      <td>success</td>\n",
              "      <td>27.0</td>\n",
              "      <td>33000.0</td>\n",
              "      <td>6.0</td>\n",
              "      <td>Fitness</td>\n",
              "    </tr>\n",
              "    <tr>\n",
              "      <th>2</th>\n",
              "      <td>3.0</td>\n",
              "      <td>1972-10-02 00:00:00.0000000</td>\n",
              "      <td>Высшее - специалист</td>\n",
              "      <td>Работаю по найму полный рабочий день/служу</td>\n",
              "      <td>10 и более лет</td>\n",
              "      <td>2005-12-01 00:00:00.0000000</td>\n",
              "      <td>ДИРЕКТОР</td>\n",
              "      <td>300000.0</td>\n",
              "      <td>45000.0</td>\n",
              "      <td>1.0</td>\n",
              "      <td>...</td>\n",
              "      <td>0.0</td>\n",
              "      <td>denied</td>\n",
              "      <td>denied</td>\n",
              "      <td>success</td>\n",
              "      <td>success</td>\n",
              "      <td>success</td>\n",
              "      <td>19.0</td>\n",
              "      <td>165000.0</td>\n",
              "      <td>24.0</td>\n",
              "      <td>Medical_services</td>\n",
              "    </tr>\n",
              "    <tr>\n",
              "      <th>3</th>\n",
              "      <td>4.0</td>\n",
              "      <td>1972-10-02 00:00:00.0000000</td>\n",
              "      <td>Высшее - специалист</td>\n",
              "      <td>Работаю по найму полный рабочий день/служу</td>\n",
              "      <td>10 и более лет</td>\n",
              "      <td>2005-12-01 00:00:00.0000000</td>\n",
              "      <td>ДИРЕКТОР</td>\n",
              "      <td>300000.0</td>\n",
              "      <td>45000.0</td>\n",
              "      <td>1.0</td>\n",
              "      <td>...</td>\n",
              "      <td>0.0</td>\n",
              "      <td>success</td>\n",
              "      <td>denied</td>\n",
              "      <td>success</td>\n",
              "      <td>success</td>\n",
              "      <td>success</td>\n",
              "      <td>34.0</td>\n",
              "      <td>67000.0</td>\n",
              "      <td>12.0</td>\n",
              "      <td>Education</td>\n",
              "    </tr>\n",
              "    <tr>\n",
              "      <th>4</th>\n",
              "      <td>5.0</td>\n",
              "      <td>1972-10-02 00:00:00.0000000</td>\n",
              "      <td>Высшее - специалист</td>\n",
              "      <td>Работаю по найму полный рабочий день/служу</td>\n",
              "      <td>10 и более лет</td>\n",
              "      <td>2005-12-01 00:00:00.0000000</td>\n",
              "      <td>ДИРЕКТОР</td>\n",
              "      <td>300000.0</td>\n",
              "      <td>45000.0</td>\n",
              "      <td>1.0</td>\n",
              "      <td>...</td>\n",
              "      <td>0.0</td>\n",
              "      <td>success</td>\n",
              "      <td>denied</td>\n",
              "      <td>success</td>\n",
              "      <td>success</td>\n",
              "      <td>success</td>\n",
              "      <td>75.0</td>\n",
              "      <td>36000.0</td>\n",
              "      <td>6.0</td>\n",
              "      <td>Furniture</td>\n",
              "    </tr>\n",
              "    <tr>\n",
              "      <th>...</th>\n",
              "      <td>...</td>\n",
              "      <td>...</td>\n",
              "      <td>...</td>\n",
              "      <td>...</td>\n",
              "      <td>...</td>\n",
              "      <td>...</td>\n",
              "      <td>...</td>\n",
              "      <td>...</td>\n",
              "      <td>...</td>\n",
              "      <td>...</td>\n",
              "      <td>...</td>\n",
              "      <td>...</td>\n",
              "      <td>...</td>\n",
              "      <td>...</td>\n",
              "      <td>...</td>\n",
              "      <td>...</td>\n",
              "      <td>...</td>\n",
              "      <td>...</td>\n",
              "      <td>...</td>\n",
              "      <td>...</td>\n",
              "      <td>...</td>\n",
              "    </tr>\n",
              "    <tr>\n",
              "      <th>8782</th>\n",
              "      <td>NaN</td>\n",
              "      <td>NaN</td>\n",
              "      <td>NaN</td>\n",
              "      <td>NaN</td>\n",
              "      <td>NaN</td>\n",
              "      <td>NaN</td>\n",
              "      <td>NaN</td>\n",
              "      <td>NaN</td>\n",
              "      <td>NaN</td>\n",
              "      <td>NaN</td>\n",
              "      <td>...</td>\n",
              "      <td>NaN</td>\n",
              "      <td>NaN</td>\n",
              "      <td>NaN</td>\n",
              "      <td>NaN</td>\n",
              "      <td>NaN</td>\n",
              "      <td>NaN</td>\n",
              "      <td>NaN</td>\n",
              "      <td>NaN</td>\n",
              "      <td>NaN</td>\n",
              "      <td>NaN</td>\n",
              "    </tr>\n",
              "    <tr>\n",
              "      <th>8783</th>\n",
              "      <td>NaN</td>\n",
              "      <td>NaN</td>\n",
              "      <td>NaN</td>\n",
              "      <td>NaN</td>\n",
              "      <td>NaN</td>\n",
              "      <td>NaN</td>\n",
              "      <td>NaN</td>\n",
              "      <td>NaN</td>\n",
              "      <td>NaN</td>\n",
              "      <td>NaN</td>\n",
              "      <td>...</td>\n",
              "      <td>NaN</td>\n",
              "      <td>NaN</td>\n",
              "      <td>NaN</td>\n",
              "      <td>NaN</td>\n",
              "      <td>NaN</td>\n",
              "      <td>NaN</td>\n",
              "      <td>NaN</td>\n",
              "      <td>NaN</td>\n",
              "      <td>NaN</td>\n",
              "      <td>NaN</td>\n",
              "    </tr>\n",
              "    <tr>\n",
              "      <th>8784</th>\n",
              "      <td>NaN</td>\n",
              "      <td>NaN</td>\n",
              "      <td>NaN</td>\n",
              "      <td>NaN</td>\n",
              "      <td>NaN</td>\n",
              "      <td>NaN</td>\n",
              "      <td>NaN</td>\n",
              "      <td>NaN</td>\n",
              "      <td>NaN</td>\n",
              "      <td>NaN</td>\n",
              "      <td>...</td>\n",
              "      <td>NaN</td>\n",
              "      <td>NaN</td>\n",
              "      <td>NaN</td>\n",
              "      <td>NaN</td>\n",
              "      <td>NaN</td>\n",
              "      <td>NaN</td>\n",
              "      <td>NaN</td>\n",
              "      <td>NaN</td>\n",
              "      <td>NaN</td>\n",
              "      <td>NaN</td>\n",
              "    </tr>\n",
              "    <tr>\n",
              "      <th>8785</th>\n",
              "      <td>NaN</td>\n",
              "      <td>NaN</td>\n",
              "      <td>NaN</td>\n",
              "      <td>NaN</td>\n",
              "      <td>NaN</td>\n",
              "      <td>NaN</td>\n",
              "      <td>NaN</td>\n",
              "      <td>NaN</td>\n",
              "      <td>NaN</td>\n",
              "      <td>NaN</td>\n",
              "      <td>...</td>\n",
              "      <td>NaN</td>\n",
              "      <td>NaN</td>\n",
              "      <td>NaN</td>\n",
              "      <td>NaN</td>\n",
              "      <td>NaN</td>\n",
              "      <td>NaN</td>\n",
              "      <td>NaN</td>\n",
              "      <td>NaN</td>\n",
              "      <td>NaN</td>\n",
              "      <td>NaN</td>\n",
              "    </tr>\n",
              "    <tr>\n",
              "      <th>8786</th>\n",
              "      <td>NaN</td>\n",
              "      <td>NaN</td>\n",
              "      <td>NaN</td>\n",
              "      <td>NaN</td>\n",
              "      <td>NaN</td>\n",
              "      <td>NaN</td>\n",
              "      <td>NaN</td>\n",
              "      <td>NaN</td>\n",
              "      <td>NaN</td>\n",
              "      <td>NaN</td>\n",
              "      <td>...</td>\n",
              "      <td>NaN</td>\n",
              "      <td>NaN</td>\n",
              "      <td>NaN</td>\n",
              "      <td>NaN</td>\n",
              "      <td>NaN</td>\n",
              "      <td>NaN</td>\n",
              "      <td>NaN</td>\n",
              "      <td>NaN</td>\n",
              "      <td>NaN</td>\n",
              "      <td>NaN</td>\n",
              "    </tr>\n",
              "  </tbody>\n",
              "</table>\n",
              "<p>8787 rows × 22 columns</p>\n",
              "</div>\n",
              "    <div class=\"colab-df-buttons\">\n",
              "\n",
              "  <div class=\"colab-df-container\">\n",
              "    <button class=\"colab-df-convert\" onclick=\"convertToInteractive('df-259aaa68-6bac-4301-995a-6b7f107c14b6')\"\n",
              "            title=\"Convert this dataframe to an interactive table.\"\n",
              "            style=\"display:none;\">\n",
              "\n",
              "  <svg xmlns=\"http://www.w3.org/2000/svg\" height=\"24px\" viewBox=\"0 -960 960 960\">\n",
              "    <path d=\"M120-120v-720h720v720H120Zm60-500h600v-160H180v160Zm220 220h160v-160H400v160Zm0 220h160v-160H400v160ZM180-400h160v-160H180v160Zm440 0h160v-160H620v160ZM180-180h160v-160H180v160Zm440 0h160v-160H620v160Z\"/>\n",
              "  </svg>\n",
              "    </button>\n",
              "\n",
              "  <style>\n",
              "    .colab-df-container {\n",
              "      display:flex;\n",
              "      gap: 12px;\n",
              "    }\n",
              "\n",
              "    .colab-df-convert {\n",
              "      background-color: #E8F0FE;\n",
              "      border: none;\n",
              "      border-radius: 50%;\n",
              "      cursor: pointer;\n",
              "      display: none;\n",
              "      fill: #1967D2;\n",
              "      height: 32px;\n",
              "      padding: 0 0 0 0;\n",
              "      width: 32px;\n",
              "    }\n",
              "\n",
              "    .colab-df-convert:hover {\n",
              "      background-color: #E2EBFA;\n",
              "      box-shadow: 0px 1px 2px rgba(60, 64, 67, 0.3), 0px 1px 3px 1px rgba(60, 64, 67, 0.15);\n",
              "      fill: #174EA6;\n",
              "    }\n",
              "\n",
              "    .colab-df-buttons div {\n",
              "      margin-bottom: 4px;\n",
              "    }\n",
              "\n",
              "    [theme=dark] .colab-df-convert {\n",
              "      background-color: #3B4455;\n",
              "      fill: #D2E3FC;\n",
              "    }\n",
              "\n",
              "    [theme=dark] .colab-df-convert:hover {\n",
              "      background-color: #434B5C;\n",
              "      box-shadow: 0px 1px 3px 1px rgba(0, 0, 0, 0.15);\n",
              "      filter: drop-shadow(0px 1px 2px rgba(0, 0, 0, 0.3));\n",
              "      fill: #FFFFFF;\n",
              "    }\n",
              "  </style>\n",
              "\n",
              "    <script>\n",
              "      const buttonEl =\n",
              "        document.querySelector('#df-259aaa68-6bac-4301-995a-6b7f107c14b6 button.colab-df-convert');\n",
              "      buttonEl.style.display =\n",
              "        google.colab.kernel.accessAllowed ? 'block' : 'none';\n",
              "\n",
              "      async function convertToInteractive(key) {\n",
              "        const element = document.querySelector('#df-259aaa68-6bac-4301-995a-6b7f107c14b6');\n",
              "        const dataTable =\n",
              "          await google.colab.kernel.invokeFunction('convertToInteractive',\n",
              "                                                    [key], {});\n",
              "        if (!dataTable) return;\n",
              "\n",
              "        const docLinkHtml = 'Like what you see? Visit the ' +\n",
              "          '<a target=\"_blank\" href=https://colab.research.google.com/notebooks/data_table.ipynb>data table notebook</a>'\n",
              "          + ' to learn more about interactive tables.';\n",
              "        element.innerHTML = '';\n",
              "        dataTable['output_type'] = 'display_data';\n",
              "        await google.colab.output.renderOutput(dataTable, element);\n",
              "        const docLink = document.createElement('div');\n",
              "        docLink.innerHTML = docLinkHtml;\n",
              "        element.appendChild(docLink);\n",
              "      }\n",
              "    </script>\n",
              "  </div>\n",
              "\n",
              "\n",
              "<div id=\"df-01ab119a-9978-4089-b9ce-a3828665e35f\">\n",
              "  <button class=\"colab-df-quickchart\" onclick=\"quickchart('df-01ab119a-9978-4089-b9ce-a3828665e35f')\"\n",
              "            title=\"Suggest charts\"\n",
              "            style=\"display:none;\">\n",
              "\n",
              "<svg xmlns=\"http://www.w3.org/2000/svg\" height=\"24px\"viewBox=\"0 0 24 24\"\n",
              "     width=\"24px\">\n",
              "    <g>\n",
              "        <path d=\"M19 3H5c-1.1 0-2 .9-2 2v14c0 1.1.9 2 2 2h14c1.1 0 2-.9 2-2V5c0-1.1-.9-2-2-2zM9 17H7v-7h2v7zm4 0h-2V7h2v10zm4 0h-2v-4h2v4z\"/>\n",
              "    </g>\n",
              "</svg>\n",
              "  </button>\n",
              "\n",
              "<style>\n",
              "  .colab-df-quickchart {\n",
              "      --bg-color: #E8F0FE;\n",
              "      --fill-color: #1967D2;\n",
              "      --hover-bg-color: #E2EBFA;\n",
              "      --hover-fill-color: #174EA6;\n",
              "      --disabled-fill-color: #AAA;\n",
              "      --disabled-bg-color: #DDD;\n",
              "  }\n",
              "\n",
              "  [theme=dark] .colab-df-quickchart {\n",
              "      --bg-color: #3B4455;\n",
              "      --fill-color: #D2E3FC;\n",
              "      --hover-bg-color: #434B5C;\n",
              "      --hover-fill-color: #FFFFFF;\n",
              "      --disabled-bg-color: #3B4455;\n",
              "      --disabled-fill-color: #666;\n",
              "  }\n",
              "\n",
              "  .colab-df-quickchart {\n",
              "    background-color: var(--bg-color);\n",
              "    border: none;\n",
              "    border-radius: 50%;\n",
              "    cursor: pointer;\n",
              "    display: none;\n",
              "    fill: var(--fill-color);\n",
              "    height: 32px;\n",
              "    padding: 0;\n",
              "    width: 32px;\n",
              "  }\n",
              "\n",
              "  .colab-df-quickchart:hover {\n",
              "    background-color: var(--hover-bg-color);\n",
              "    box-shadow: 0 1px 2px rgba(60, 64, 67, 0.3), 0 1px 3px 1px rgba(60, 64, 67, 0.15);\n",
              "    fill: var(--button-hover-fill-color);\n",
              "  }\n",
              "\n",
              "  .colab-df-quickchart-complete:disabled,\n",
              "  .colab-df-quickchart-complete:disabled:hover {\n",
              "    background-color: var(--disabled-bg-color);\n",
              "    fill: var(--disabled-fill-color);\n",
              "    box-shadow: none;\n",
              "  }\n",
              "\n",
              "  .colab-df-spinner {\n",
              "    border: 2px solid var(--fill-color);\n",
              "    border-color: transparent;\n",
              "    border-bottom-color: var(--fill-color);\n",
              "    animation:\n",
              "      spin 1s steps(1) infinite;\n",
              "  }\n",
              "\n",
              "  @keyframes spin {\n",
              "    0% {\n",
              "      border-color: transparent;\n",
              "      border-bottom-color: var(--fill-color);\n",
              "      border-left-color: var(--fill-color);\n",
              "    }\n",
              "    20% {\n",
              "      border-color: transparent;\n",
              "      border-left-color: var(--fill-color);\n",
              "      border-top-color: var(--fill-color);\n",
              "    }\n",
              "    30% {\n",
              "      border-color: transparent;\n",
              "      border-left-color: var(--fill-color);\n",
              "      border-top-color: var(--fill-color);\n",
              "      border-right-color: var(--fill-color);\n",
              "    }\n",
              "    40% {\n",
              "      border-color: transparent;\n",
              "      border-right-color: var(--fill-color);\n",
              "      border-top-color: var(--fill-color);\n",
              "    }\n",
              "    60% {\n",
              "      border-color: transparent;\n",
              "      border-right-color: var(--fill-color);\n",
              "    }\n",
              "    80% {\n",
              "      border-color: transparent;\n",
              "      border-right-color: var(--fill-color);\n",
              "      border-bottom-color: var(--fill-color);\n",
              "    }\n",
              "    90% {\n",
              "      border-color: transparent;\n",
              "      border-bottom-color: var(--fill-color);\n",
              "    }\n",
              "  }\n",
              "</style>\n",
              "\n",
              "  <script>\n",
              "    async function quickchart(key) {\n",
              "      const quickchartButtonEl =\n",
              "        document.querySelector('#' + key + ' button');\n",
              "      quickchartButtonEl.disabled = true;  // To prevent multiple clicks.\n",
              "      quickchartButtonEl.classList.add('colab-df-spinner');\n",
              "      try {\n",
              "        const charts = await google.colab.kernel.invokeFunction(\n",
              "            'suggestCharts', [key], {});\n",
              "      } catch (error) {\n",
              "        console.error('Error during call to suggestCharts:', error);\n",
              "      }\n",
              "      quickchartButtonEl.classList.remove('colab-df-spinner');\n",
              "      quickchartButtonEl.classList.add('colab-df-quickchart-complete');\n",
              "    }\n",
              "    (() => {\n",
              "      let quickchartButtonEl =\n",
              "        document.querySelector('#df-01ab119a-9978-4089-b9ce-a3828665e35f button');\n",
              "      quickchartButtonEl.style.display =\n",
              "        google.colab.kernel.accessAllowed ? 'block' : 'none';\n",
              "    })();\n",
              "  </script>\n",
              "</div>\n",
              "    </div>\n",
              "  </div>\n"
            ]
          },
          "metadata": {},
          "execution_count": 160
        }
      ]
    },
    {
      "cell_type": "markdown",
      "source": [
        "## Пустые строки"
      ],
      "metadata": {
        "id": "Jl3szGh34qPL"
      }
    },
    {
      "cell_type": "markdown",
      "source": [
        "Проверяем наличие пустых значений"
      ],
      "metadata": {
        "id": "lMkvDqoO4nqR"
      }
    },
    {
      "cell_type": "code",
      "source": [
        "df.isnull().sum()"
      ],
      "metadata": {
        "id": "WsarMf-cxFxb",
        "colab": {
          "base_uri": "https://localhost:8080/",
          "height": 0
        },
        "outputId": "4d588667-16c1-400c-d8cb-fc6c67014498"
      },
      "execution_count": 161,
      "outputs": [
        {
          "output_type": "execute_result",
          "data": {
            "text/plain": [
              "SkillFactory_Id      2184\n",
              "BirthDate            2184\n",
              "education            2184\n",
              "employment status    2184\n",
              "Value                2264\n",
              "JobStartDate         2293\n",
              "Position             2293\n",
              "MonthProfit          2184\n",
              "MonthExpense         2184\n",
              "Gender               2221\n",
              "Family status        2221\n",
              "ChildCount           2221\n",
              "SNILS                2184\n",
              "BankA_decision       2184\n",
              "BankB_decision       2184\n",
              "BankC_decision       2184\n",
              "BankD_decision       2184\n",
              "BankE_decision       2184\n",
              "Merch_code           2184\n",
              "Loan_amount          2184\n",
              "Loan_term            2184\n",
              "Goods_category       2184\n",
              "dtype: int64"
            ]
          },
          "metadata": {},
          "execution_count": 161
        }
      ]
    },
    {
      "cell_type": "markdown",
      "source": [
        "Убираем строки с пустыми значениями"
      ],
      "metadata": {
        "id": "m1ipeASb4u3a"
      }
    },
    {
      "cell_type": "code",
      "source": [
        "df.dropna(inplace=True)"
      ],
      "metadata": {
        "id": "UBFvURhYxr40"
      },
      "execution_count": 162,
      "outputs": []
    },
    {
      "cell_type": "markdown",
      "source": [
        "Проверяем корректность отработки"
      ],
      "metadata": {
        "id": "HpCFlVCL4zI5"
      }
    },
    {
      "cell_type": "code",
      "source": [
        "df.isnull().sum()"
      ],
      "metadata": {
        "id": "aehctf2QxzGk",
        "colab": {
          "base_uri": "https://localhost:8080/",
          "height": 0
        },
        "outputId": "7940273b-0eab-49a8-eae9-652eee482497"
      },
      "execution_count": 163,
      "outputs": [
        {
          "output_type": "execute_result",
          "data": {
            "text/plain": [
              "SkillFactory_Id      0\n",
              "BirthDate            0\n",
              "education            0\n",
              "employment status    0\n",
              "Value                0\n",
              "JobStartDate         0\n",
              "Position             0\n",
              "MonthProfit          0\n",
              "MonthExpense         0\n",
              "Gender               0\n",
              "Family status        0\n",
              "ChildCount           0\n",
              "SNILS                0\n",
              "BankA_decision       0\n",
              "BankB_decision       0\n",
              "BankC_decision       0\n",
              "BankD_decision       0\n",
              "BankE_decision       0\n",
              "Merch_code           0\n",
              "Loan_amount          0\n",
              "Loan_term            0\n",
              "Goods_category       0\n",
              "dtype: int64"
            ]
          },
          "metadata": {},
          "execution_count": 163
        }
      ]
    },
    {
      "cell_type": "markdown",
      "source": [
        "## Предобработка данных"
      ],
      "metadata": {
        "id": "KNIvV4K743Wk"
      }
    },
    {
      "cell_type": "code",
      "source": [
        "df.info()"
      ],
      "metadata": {
        "id": "TdqVzLb23eft",
        "colab": {
          "base_uri": "https://localhost:8080/",
          "height": 0
        },
        "outputId": "8a15738e-ec5d-4526-bfd6-1fae95809d7a"
      },
      "execution_count": 164,
      "outputs": [
        {
          "output_type": "stream",
          "name": "stdout",
          "text": [
            "<class 'pandas.core.frame.DataFrame'>\n",
            "Int64Index: 6464 entries, 0 to 6602\n",
            "Data columns (total 22 columns):\n",
            " #   Column             Non-Null Count  Dtype  \n",
            "---  ------             --------------  -----  \n",
            " 0   SkillFactory_Id    6464 non-null   float64\n",
            " 1   BirthDate          6464 non-null   object \n",
            " 2   education          6464 non-null   object \n",
            " 3   employment status  6464 non-null   object \n",
            " 4   Value              6464 non-null   object \n",
            " 5   JobStartDate       6464 non-null   object \n",
            " 6   Position           6464 non-null   object \n",
            " 7   MonthProfit        6464 non-null   float64\n",
            " 8   MonthExpense       6464 non-null   float64\n",
            " 9   Gender             6464 non-null   float64\n",
            " 10  Family status      6464 non-null   object \n",
            " 11  ChildCount         6464 non-null   float64\n",
            " 12  SNILS              6464 non-null   float64\n",
            " 13  BankA_decision     6464 non-null   object \n",
            " 14  BankB_decision     6464 non-null   object \n",
            " 15  BankC_decision     6464 non-null   object \n",
            " 16  BankD_decision     6464 non-null   object \n",
            " 17  BankE_decision     6464 non-null   object \n",
            " 18  Merch_code         6464 non-null   float64\n",
            " 19  Loan_amount        6464 non-null   float64\n",
            " 20  Loan_term          6464 non-null   float64\n",
            " 21  Goods_category     6464 non-null   object \n",
            "dtypes: float64(9), object(13)\n",
            "memory usage: 1.1+ MB\n"
          ]
        }
      ]
    },
    {
      "cell_type": "markdown",
      "source": [
        "Столец `SkillFactory_Id` не содержит значимой информации - можем удалить его"
      ],
      "metadata": {
        "id": "lKoivibm5Bmw"
      }
    },
    {
      "cell_type": "code",
      "source": [
        "df.drop('SkillFactory_Id', axis=1, inplace= True)"
      ],
      "metadata": {
        "id": "ywDzMTuA9gpy"
      },
      "execution_count": 165,
      "outputs": []
    },
    {
      "cell_type": "markdown",
      "source": [
        "Удалим одинаковые строки"
      ],
      "metadata": {
        "id": "empVO6Fh5Jqd"
      }
    },
    {
      "cell_type": "code",
      "source": [
        "df.drop_duplicates(inplace= True)"
      ],
      "metadata": {
        "id": "HFpGzvRo-EBR"
      },
      "execution_count": 166,
      "outputs": []
    },
    {
      "cell_type": "markdown",
      "source": [
        "Проверим сколько строк было удалено"
      ],
      "metadata": {
        "id": "7ZtUutUu5N_t"
      }
    },
    {
      "cell_type": "code",
      "source": [
        "df.info()"
      ],
      "metadata": {
        "id": "Fn4oy3hg5NL5",
        "colab": {
          "base_uri": "https://localhost:8080/",
          "height": 0
        },
        "outputId": "b3c7916c-1863-4a25-e6e3-188a48828889"
      },
      "execution_count": 167,
      "outputs": [
        {
          "output_type": "stream",
          "name": "stdout",
          "text": [
            "<class 'pandas.core.frame.DataFrame'>\n",
            "Int64Index: 6464 entries, 0 to 6602\n",
            "Data columns (total 21 columns):\n",
            " #   Column             Non-Null Count  Dtype  \n",
            "---  ------             --------------  -----  \n",
            " 0   BirthDate          6464 non-null   object \n",
            " 1   education          6464 non-null   object \n",
            " 2   employment status  6464 non-null   object \n",
            " 3   Value              6464 non-null   object \n",
            " 4   JobStartDate       6464 non-null   object \n",
            " 5   Position           6464 non-null   object \n",
            " 6   MonthProfit        6464 non-null   float64\n",
            " 7   MonthExpense       6464 non-null   float64\n",
            " 8   Gender             6464 non-null   float64\n",
            " 9   Family status      6464 non-null   object \n",
            " 10  ChildCount         6464 non-null   float64\n",
            " 11  SNILS              6464 non-null   float64\n",
            " 12  BankA_decision     6464 non-null   object \n",
            " 13  BankB_decision     6464 non-null   object \n",
            " 14  BankC_decision     6464 non-null   object \n",
            " 15  BankD_decision     6464 non-null   object \n",
            " 16  BankE_decision     6464 non-null   object \n",
            " 17  Merch_code         6464 non-null   float64\n",
            " 18  Loan_amount        6464 non-null   float64\n",
            " 19  Loan_term          6464 non-null   float64\n",
            " 20  Goods_category     6464 non-null   object \n",
            "dtypes: float64(8), object(13)\n",
            "memory usage: 1.1+ MB\n"
          ]
        }
      ]
    },
    {
      "cell_type": "markdown",
      "source": [
        "Как видим, дубликатов в датасете не оказалось"
      ],
      "metadata": {
        "id": "1UvaaPcG5SRZ"
      }
    },
    {
      "cell_type": "markdown",
      "source": [
        "## Предварительный анализ данных"
      ],
      "metadata": {
        "id": "6-w4pNU4lfIR"
      }
    },
    {
      "cell_type": "code",
      "source": [
        "df.describe()"
      ],
      "metadata": {
        "id": "ybRZpg87-HzV",
        "colab": {
          "base_uri": "https://localhost:8080/",
          "height": 300
        },
        "outputId": "066d796f-2558-4505-fb62-828ab7fbf42d"
      },
      "execution_count": 168,
      "outputs": [
        {
          "output_type": "execute_result",
          "data": {
            "text/plain": [
              "        MonthProfit   MonthExpense       Gender   ChildCount        SNILS  \\\n",
              "count  6.464000e+03    6464.000000  6464.000000  6464.000000  6464.000000   \n",
              "mean   1.495216e+05   25739.983137     0.309097     0.090037     0.346380   \n",
              "std    7.600070e+04   20301.771239     0.462157     0.407951     0.475853   \n",
              "min    5.000000e+01       0.000000     0.000000     0.000000     0.000000   \n",
              "25%    1.000000e+05   15000.000000     0.000000     0.000000     0.000000   \n",
              "50%    1.480000e+05   22500.000000     0.000000     0.000000     0.000000   \n",
              "75%    1.900000e+05   30000.000000     1.000000     0.000000     1.000000   \n",
              "max    1.200000e+06  500000.000000     1.000000     5.000000     1.000000   \n",
              "\n",
              "        Merch_code    Loan_amount    Loan_term  \n",
              "count  6464.000000    6464.000000  6464.000000  \n",
              "mean     38.787593   76153.155941    12.093750  \n",
              "std      23.895536   50926.107415     5.989045  \n",
              "min       1.000000    4000.000000     6.000000  \n",
              "25%      18.000000   35000.000000     6.000000  \n",
              "50%      36.000000   67000.000000    12.000000  \n",
              "75%      63.000000  100000.000000    18.000000  \n",
              "max      80.000000  200000.000000    24.000000  "
            ],
            "text/html": [
              "\n",
              "  <div id=\"df-78e982ea-814e-4e02-ac6a-5bf0e9cf6d15\" class=\"colab-df-container\">\n",
              "    <div>\n",
              "<style scoped>\n",
              "    .dataframe tbody tr th:only-of-type {\n",
              "        vertical-align: middle;\n",
              "    }\n",
              "\n",
              "    .dataframe tbody tr th {\n",
              "        vertical-align: top;\n",
              "    }\n",
              "\n",
              "    .dataframe thead th {\n",
              "        text-align: right;\n",
              "    }\n",
              "</style>\n",
              "<table border=\"1\" class=\"dataframe\">\n",
              "  <thead>\n",
              "    <tr style=\"text-align: right;\">\n",
              "      <th></th>\n",
              "      <th>MonthProfit</th>\n",
              "      <th>MonthExpense</th>\n",
              "      <th>Gender</th>\n",
              "      <th>ChildCount</th>\n",
              "      <th>SNILS</th>\n",
              "      <th>Merch_code</th>\n",
              "      <th>Loan_amount</th>\n",
              "      <th>Loan_term</th>\n",
              "    </tr>\n",
              "  </thead>\n",
              "  <tbody>\n",
              "    <tr>\n",
              "      <th>count</th>\n",
              "      <td>6.464000e+03</td>\n",
              "      <td>6464.000000</td>\n",
              "      <td>6464.000000</td>\n",
              "      <td>6464.000000</td>\n",
              "      <td>6464.000000</td>\n",
              "      <td>6464.000000</td>\n",
              "      <td>6464.000000</td>\n",
              "      <td>6464.000000</td>\n",
              "    </tr>\n",
              "    <tr>\n",
              "      <th>mean</th>\n",
              "      <td>1.495216e+05</td>\n",
              "      <td>25739.983137</td>\n",
              "      <td>0.309097</td>\n",
              "      <td>0.090037</td>\n",
              "      <td>0.346380</td>\n",
              "      <td>38.787593</td>\n",
              "      <td>76153.155941</td>\n",
              "      <td>12.093750</td>\n",
              "    </tr>\n",
              "    <tr>\n",
              "      <th>std</th>\n",
              "      <td>7.600070e+04</td>\n",
              "      <td>20301.771239</td>\n",
              "      <td>0.462157</td>\n",
              "      <td>0.407951</td>\n",
              "      <td>0.475853</td>\n",
              "      <td>23.895536</td>\n",
              "      <td>50926.107415</td>\n",
              "      <td>5.989045</td>\n",
              "    </tr>\n",
              "    <tr>\n",
              "      <th>min</th>\n",
              "      <td>5.000000e+01</td>\n",
              "      <td>0.000000</td>\n",
              "      <td>0.000000</td>\n",
              "      <td>0.000000</td>\n",
              "      <td>0.000000</td>\n",
              "      <td>1.000000</td>\n",
              "      <td>4000.000000</td>\n",
              "      <td>6.000000</td>\n",
              "    </tr>\n",
              "    <tr>\n",
              "      <th>25%</th>\n",
              "      <td>1.000000e+05</td>\n",
              "      <td>15000.000000</td>\n",
              "      <td>0.000000</td>\n",
              "      <td>0.000000</td>\n",
              "      <td>0.000000</td>\n",
              "      <td>18.000000</td>\n",
              "      <td>35000.000000</td>\n",
              "      <td>6.000000</td>\n",
              "    </tr>\n",
              "    <tr>\n",
              "      <th>50%</th>\n",
              "      <td>1.480000e+05</td>\n",
              "      <td>22500.000000</td>\n",
              "      <td>0.000000</td>\n",
              "      <td>0.000000</td>\n",
              "      <td>0.000000</td>\n",
              "      <td>36.000000</td>\n",
              "      <td>67000.000000</td>\n",
              "      <td>12.000000</td>\n",
              "    </tr>\n",
              "    <tr>\n",
              "      <th>75%</th>\n",
              "      <td>1.900000e+05</td>\n",
              "      <td>30000.000000</td>\n",
              "      <td>1.000000</td>\n",
              "      <td>0.000000</td>\n",
              "      <td>1.000000</td>\n",
              "      <td>63.000000</td>\n",
              "      <td>100000.000000</td>\n",
              "      <td>18.000000</td>\n",
              "    </tr>\n",
              "    <tr>\n",
              "      <th>max</th>\n",
              "      <td>1.200000e+06</td>\n",
              "      <td>500000.000000</td>\n",
              "      <td>1.000000</td>\n",
              "      <td>5.000000</td>\n",
              "      <td>1.000000</td>\n",
              "      <td>80.000000</td>\n",
              "      <td>200000.000000</td>\n",
              "      <td>24.000000</td>\n",
              "    </tr>\n",
              "  </tbody>\n",
              "</table>\n",
              "</div>\n",
              "    <div class=\"colab-df-buttons\">\n",
              "\n",
              "  <div class=\"colab-df-container\">\n",
              "    <button class=\"colab-df-convert\" onclick=\"convertToInteractive('df-78e982ea-814e-4e02-ac6a-5bf0e9cf6d15')\"\n",
              "            title=\"Convert this dataframe to an interactive table.\"\n",
              "            style=\"display:none;\">\n",
              "\n",
              "  <svg xmlns=\"http://www.w3.org/2000/svg\" height=\"24px\" viewBox=\"0 -960 960 960\">\n",
              "    <path d=\"M120-120v-720h720v720H120Zm60-500h600v-160H180v160Zm220 220h160v-160H400v160Zm0 220h160v-160H400v160ZM180-400h160v-160H180v160Zm440 0h160v-160H620v160ZM180-180h160v-160H180v160Zm440 0h160v-160H620v160Z\"/>\n",
              "  </svg>\n",
              "    </button>\n",
              "\n",
              "  <style>\n",
              "    .colab-df-container {\n",
              "      display:flex;\n",
              "      gap: 12px;\n",
              "    }\n",
              "\n",
              "    .colab-df-convert {\n",
              "      background-color: #E8F0FE;\n",
              "      border: none;\n",
              "      border-radius: 50%;\n",
              "      cursor: pointer;\n",
              "      display: none;\n",
              "      fill: #1967D2;\n",
              "      height: 32px;\n",
              "      padding: 0 0 0 0;\n",
              "      width: 32px;\n",
              "    }\n",
              "\n",
              "    .colab-df-convert:hover {\n",
              "      background-color: #E2EBFA;\n",
              "      box-shadow: 0px 1px 2px rgba(60, 64, 67, 0.3), 0px 1px 3px 1px rgba(60, 64, 67, 0.15);\n",
              "      fill: #174EA6;\n",
              "    }\n",
              "\n",
              "    .colab-df-buttons div {\n",
              "      margin-bottom: 4px;\n",
              "    }\n",
              "\n",
              "    [theme=dark] .colab-df-convert {\n",
              "      background-color: #3B4455;\n",
              "      fill: #D2E3FC;\n",
              "    }\n",
              "\n",
              "    [theme=dark] .colab-df-convert:hover {\n",
              "      background-color: #434B5C;\n",
              "      box-shadow: 0px 1px 3px 1px rgba(0, 0, 0, 0.15);\n",
              "      filter: drop-shadow(0px 1px 2px rgba(0, 0, 0, 0.3));\n",
              "      fill: #FFFFFF;\n",
              "    }\n",
              "  </style>\n",
              "\n",
              "    <script>\n",
              "      const buttonEl =\n",
              "        document.querySelector('#df-78e982ea-814e-4e02-ac6a-5bf0e9cf6d15 button.colab-df-convert');\n",
              "      buttonEl.style.display =\n",
              "        google.colab.kernel.accessAllowed ? 'block' : 'none';\n",
              "\n",
              "      async function convertToInteractive(key) {\n",
              "        const element = document.querySelector('#df-78e982ea-814e-4e02-ac6a-5bf0e9cf6d15');\n",
              "        const dataTable =\n",
              "          await google.colab.kernel.invokeFunction('convertToInteractive',\n",
              "                                                    [key], {});\n",
              "        if (!dataTable) return;\n",
              "\n",
              "        const docLinkHtml = 'Like what you see? Visit the ' +\n",
              "          '<a target=\"_blank\" href=https://colab.research.google.com/notebooks/data_table.ipynb>data table notebook</a>'\n",
              "          + ' to learn more about interactive tables.';\n",
              "        element.innerHTML = '';\n",
              "        dataTable['output_type'] = 'display_data';\n",
              "        await google.colab.output.renderOutput(dataTable, element);\n",
              "        const docLink = document.createElement('div');\n",
              "        docLink.innerHTML = docLinkHtml;\n",
              "        element.appendChild(docLink);\n",
              "      }\n",
              "    </script>\n",
              "  </div>\n",
              "\n",
              "\n",
              "<div id=\"df-d37cb699-ce35-4687-b02e-6baf47d2328b\">\n",
              "  <button class=\"colab-df-quickchart\" onclick=\"quickchart('df-d37cb699-ce35-4687-b02e-6baf47d2328b')\"\n",
              "            title=\"Suggest charts\"\n",
              "            style=\"display:none;\">\n",
              "\n",
              "<svg xmlns=\"http://www.w3.org/2000/svg\" height=\"24px\"viewBox=\"0 0 24 24\"\n",
              "     width=\"24px\">\n",
              "    <g>\n",
              "        <path d=\"M19 3H5c-1.1 0-2 .9-2 2v14c0 1.1.9 2 2 2h14c1.1 0 2-.9 2-2V5c0-1.1-.9-2-2-2zM9 17H7v-7h2v7zm4 0h-2V7h2v10zm4 0h-2v-4h2v4z\"/>\n",
              "    </g>\n",
              "</svg>\n",
              "  </button>\n",
              "\n",
              "<style>\n",
              "  .colab-df-quickchart {\n",
              "      --bg-color: #E8F0FE;\n",
              "      --fill-color: #1967D2;\n",
              "      --hover-bg-color: #E2EBFA;\n",
              "      --hover-fill-color: #174EA6;\n",
              "      --disabled-fill-color: #AAA;\n",
              "      --disabled-bg-color: #DDD;\n",
              "  }\n",
              "\n",
              "  [theme=dark] .colab-df-quickchart {\n",
              "      --bg-color: #3B4455;\n",
              "      --fill-color: #D2E3FC;\n",
              "      --hover-bg-color: #434B5C;\n",
              "      --hover-fill-color: #FFFFFF;\n",
              "      --disabled-bg-color: #3B4455;\n",
              "      --disabled-fill-color: #666;\n",
              "  }\n",
              "\n",
              "  .colab-df-quickchart {\n",
              "    background-color: var(--bg-color);\n",
              "    border: none;\n",
              "    border-radius: 50%;\n",
              "    cursor: pointer;\n",
              "    display: none;\n",
              "    fill: var(--fill-color);\n",
              "    height: 32px;\n",
              "    padding: 0;\n",
              "    width: 32px;\n",
              "  }\n",
              "\n",
              "  .colab-df-quickchart:hover {\n",
              "    background-color: var(--hover-bg-color);\n",
              "    box-shadow: 0 1px 2px rgba(60, 64, 67, 0.3), 0 1px 3px 1px rgba(60, 64, 67, 0.15);\n",
              "    fill: var(--button-hover-fill-color);\n",
              "  }\n",
              "\n",
              "  .colab-df-quickchart-complete:disabled,\n",
              "  .colab-df-quickchart-complete:disabled:hover {\n",
              "    background-color: var(--disabled-bg-color);\n",
              "    fill: var(--disabled-fill-color);\n",
              "    box-shadow: none;\n",
              "  }\n",
              "\n",
              "  .colab-df-spinner {\n",
              "    border: 2px solid var(--fill-color);\n",
              "    border-color: transparent;\n",
              "    border-bottom-color: var(--fill-color);\n",
              "    animation:\n",
              "      spin 1s steps(1) infinite;\n",
              "  }\n",
              "\n",
              "  @keyframes spin {\n",
              "    0% {\n",
              "      border-color: transparent;\n",
              "      border-bottom-color: var(--fill-color);\n",
              "      border-left-color: var(--fill-color);\n",
              "    }\n",
              "    20% {\n",
              "      border-color: transparent;\n",
              "      border-left-color: var(--fill-color);\n",
              "      border-top-color: var(--fill-color);\n",
              "    }\n",
              "    30% {\n",
              "      border-color: transparent;\n",
              "      border-left-color: var(--fill-color);\n",
              "      border-top-color: var(--fill-color);\n",
              "      border-right-color: var(--fill-color);\n",
              "    }\n",
              "    40% {\n",
              "      border-color: transparent;\n",
              "      border-right-color: var(--fill-color);\n",
              "      border-top-color: var(--fill-color);\n",
              "    }\n",
              "    60% {\n",
              "      border-color: transparent;\n",
              "      border-right-color: var(--fill-color);\n",
              "    }\n",
              "    80% {\n",
              "      border-color: transparent;\n",
              "      border-right-color: var(--fill-color);\n",
              "      border-bottom-color: var(--fill-color);\n",
              "    }\n",
              "    90% {\n",
              "      border-color: transparent;\n",
              "      border-bottom-color: var(--fill-color);\n",
              "    }\n",
              "  }\n",
              "</style>\n",
              "\n",
              "  <script>\n",
              "    async function quickchart(key) {\n",
              "      const quickchartButtonEl =\n",
              "        document.querySelector('#' + key + ' button');\n",
              "      quickchartButtonEl.disabled = true;  // To prevent multiple clicks.\n",
              "      quickchartButtonEl.classList.add('colab-df-spinner');\n",
              "      try {\n",
              "        const charts = await google.colab.kernel.invokeFunction(\n",
              "            'suggestCharts', [key], {});\n",
              "      } catch (error) {\n",
              "        console.error('Error during call to suggestCharts:', error);\n",
              "      }\n",
              "      quickchartButtonEl.classList.remove('colab-df-spinner');\n",
              "      quickchartButtonEl.classList.add('colab-df-quickchart-complete');\n",
              "    }\n",
              "    (() => {\n",
              "      let quickchartButtonEl =\n",
              "        document.querySelector('#df-d37cb699-ce35-4687-b02e-6baf47d2328b button');\n",
              "      quickchartButtonEl.style.display =\n",
              "        google.colab.kernel.accessAllowed ? 'block' : 'none';\n",
              "    })();\n",
              "  </script>\n",
              "</div>\n",
              "    </div>\n",
              "  </div>\n"
            ]
          },
          "metadata": {},
          "execution_count": 168
        }
      ]
    },
    {
      "cell_type": "markdown",
      "source": [
        "Построим матрицу корреляции.\n",
        "\n",
        "Для этого заменим текстовые значения целевых переменных на числовые"
      ],
      "metadata": {
        "id": "L81aPVsnlhog"
      }
    },
    {
      "cell_type": "code",
      "source": [
        "df = df.replace({'success': 1, 'denied': 0, 'error': 2})"
      ],
      "metadata": {
        "id": "vtIr8YqLjsUQ"
      },
      "execution_count": 169,
      "outputs": []
    },
    {
      "cell_type": "code",
      "source": [
        "\n",
        "corr = df.corr()\n",
        "sns.heatmap(corr,\n",
        "            xticklabels=corr.columns.values,\n",
        "            yticklabels=corr.columns.values)"
      ],
      "metadata": {
        "colab": {
          "base_uri": "https://localhost:8080/",
          "height": 585
        },
        "id": "fsL-CCRDjOeI",
        "outputId": "63684bc0-8cda-4538-d5eb-b5005abec34c"
      },
      "execution_count": 170,
      "outputs": [
        {
          "output_type": "stream",
          "name": "stderr",
          "text": [
            "<ipython-input-170-10294f90bef1>:1: FutureWarning: The default value of numeric_only in DataFrame.corr is deprecated. In a future version, it will default to False. Select only valid columns or specify the value of numeric_only to silence this warning.\n",
            "  corr = df.corr()\n"
          ]
        },
        {
          "output_type": "execute_result",
          "data": {
            "text/plain": [
              "<Axes: >"
            ]
          },
          "metadata": {},
          "execution_count": 170
        },
        {
          "output_type": "display_data",
          "data": {
            "text/plain": [
              "<Figure size 640x480 with 2 Axes>"
            ],
            "image/png": "[encoded data removed]"
          },
          "metadata": {}
        }
      ]
    },
    {
      "cell_type": "markdown",
      "source": [
        "Видим интересную картину - целевые переменные никаким образом не скоррелированы с остальными признаками!\n",
        "\n",
        "Визцальный анализ данных также подтверждает это - явно влияющих на одобрение либо отказ банком признаков - нет\n",
        "\n",
        "При этом есть зависимости месячного дохода и расхода (что логично - чем больше у человека доход, тем скорее всего у него выше и расходы)\n",
        "\n",
        "Также видим сильную корреляцию суммы ссуды и ее срока, в чем также есть смысл - большие суммы обычно запрашивают на более длительные сроки"
      ],
      "metadata": {
        "id": "mnvMagzTlscL"
      }
    },
    {
      "cell_type": "markdown",
      "source": [
        "# Feature engineering"
      ],
      "metadata": {
        "id": "dXb8VqXR5bdu"
      }
    },
    {
      "cell_type": "markdown",
      "source": [
        "Начнем формирование фич для дальнейшего обучения модели"
      ],
      "metadata": {
        "id": "LOUnsG2k5g8Z"
      }
    },
    {
      "cell_type": "markdown",
      "source": [
        "## Возраст Клиента"
      ],
      "metadata": {
        "id": "7BtvF7qV5oJT"
      }
    },
    {
      "cell_type": "markdown",
      "source": [
        "Первая фича, которая должна оказывать значительное влияние на принятие банком решения - возрас Клиента.\n",
        "\n",
        "Вычислим его на основании даты рождения Клиента, имеющейся в датасете"
      ],
      "metadata": {
        "id": "cjELqwXY5rlZ"
      }
    },
    {
      "cell_type": "code",
      "source": [
        "# Переводим дату рождения заемщика в количество полных лет\n",
        "df['BirthDate'] = pd.to_datetime(df['BirthDate'])\n",
        "\n",
        "# Вычисление возраста и сохранение в новом столбце Age\n",
        "df['Age'] = (pd.to_datetime('today') - df['BirthDate']).astype('<m8[Y]')\n",
        "\n",
        "# Удаляем лишние столбцы\n",
        "df.drop('BirthDate', axis=1, inplace= True)"
      ],
      "metadata": {
        "id": "DzMtPc6umMwL"
      },
      "execution_count": 171,
      "outputs": []
    },
    {
      "cell_type": "markdown",
      "source": [
        "## Образование"
      ],
      "metadata": {
        "id": "DUr2dvwV6Xmt"
      }
    },
    {
      "cell_type": "markdown",
      "source": [
        "На текущем этапе столбец с образованием Клиента можем оставить без предварительной обработки"
      ],
      "metadata": {
        "id": "jUCQi14P6ab8"
      }
    },
    {
      "cell_type": "code",
      "source": [
        "df['education'].value_counts()"
      ],
      "metadata": {
        "id": "rqz-LoRbx7Q-",
        "colab": {
          "base_uri": "https://localhost:8080/",
          "height": 0
        },
        "outputId": "d857a209-4789-4811-b262-f471ecfd7e42"
      },
      "execution_count": 172,
      "outputs": [
        {
          "output_type": "execute_result",
          "data": {
            "text/plain": [
              "Высшее - специалист         5258\n",
              "Среднее профессиональное     443\n",
              "Неоконченное высшее          215\n",
              "Среднее                      194\n",
              "Бакалавр                     144\n",
              "Несколько высших             109\n",
              "Магистр                       71\n",
              "Неоконченное среднее          26\n",
              "MBA                            3\n",
              "Ученая степень                 1\n",
              "Name: education, dtype: int64"
            ]
          },
          "metadata": {},
          "execution_count": 172
        }
      ]
    },
    {
      "cell_type": "markdown",
      "source": [
        "## Статус трудоустройства"
      ],
      "metadata": {
        "id": "-FoUC7Od6jZs"
      }
    },
    {
      "cell_type": "markdown",
      "source": [
        "На текущем этапе столбец со статусом трудоустройства Клиента можем оставить без предварительной обработки"
      ],
      "metadata": {
        "id": "20btVaAU6qoM"
      }
    },
    {
      "cell_type": "code",
      "source": [
        "df['employment status'].value_counts()"
      ],
      "metadata": {
        "id": "fdufdtb-yKnq",
        "colab": {
          "base_uri": "https://localhost:8080/",
          "height": 0
        },
        "outputId": "51e93eb6-daae-4a27-c8be-599dfeadcb00"
      },
      "execution_count": 173,
      "outputs": [
        {
          "output_type": "execute_result",
          "data": {
            "text/plain": [
              "Работаю по найму полный рабочий день/служу    4843\n",
              "Собственное дело                              1516\n",
              "Работаю по найму неполный рабочий день          61\n",
              "Декретный отпуск                                19\n",
              "Пенсионер                                       15\n",
              "Не работаю                                       8\n",
              "Студент                                          2\n",
              "Name: employment status, dtype: int64"
            ]
          },
          "metadata": {},
          "execution_count": 173
        }
      ]
    },
    {
      "cell_type": "markdown",
      "source": [
        "## Общий стаж работы Клиента"
      ],
      "metadata": {
        "id": "w3uJzUhb-aOG"
      }
    },
    {
      "cell_type": "markdown",
      "source": [
        "В данном поле у виде категорий указывается общий стаж работы клиента.\n",
        "\n",
        "Пока оставим это поле в изначальном виде"
      ],
      "metadata": {
        "id": "MXdC9ZSJ_Bmv"
      }
    },
    {
      "cell_type": "code",
      "source": [
        "df['Value'].value_counts()"
      ],
      "metadata": {
        "id": "WjZ1fGMe-tJF",
        "colab": {
          "base_uri": "https://localhost:8080/",
          "height": 0
        },
        "outputId": "e6a41a6e-b0a1-46f2-b14b-f4a8f4a538a0"
      },
      "execution_count": 174,
      "outputs": [
        {
          "output_type": "execute_result",
          "data": {
            "text/plain": [
              "10 и более лет       3605\n",
              "3 - 4 года            521\n",
              "2 - 3 года            498\n",
              "4 - 5 лет             366\n",
              "5 - 6 лет             289\n",
              "1 - 2 года            269\n",
              "6 - 7 лет             250\n",
              "7 - 8 лет             225\n",
              "8 - 9 лет             152\n",
              "6 месяцев - 1 год     118\n",
              "9 - 10 лет             88\n",
              "4 - 6 месяцев          51\n",
              "менее 4 месяцев        32\n",
              "Name: Value, dtype: int64"
            ]
          },
          "metadata": {},
          "execution_count": 174
        }
      ]
    },
    {
      "cell_type": "markdown",
      "source": [
        "## Стаж на последнем месте работы"
      ],
      "metadata": {
        "id": "g00Cyg4-58RV"
      }
    },
    {
      "cell_type": "markdown",
      "source": [
        "Также на принятие решения Банком о кредитовании Клиента влияет стаж Клиента, добавим соответствующую фичу"
      ],
      "metadata": {
        "id": "8N2apP9l5_f3"
      }
    },
    {
      "cell_type": "code",
      "source": [
        "# Переводим дату начала рабочего стажа в кол-во лет\n",
        "df['JobStartDate'] = pd.to_datetime(df['JobStartDate'])\n",
        "\n",
        "df['Seniority'] = (pd.to_datetime('today') - df['JobStartDate']).astype('<m8[Y]')\n",
        "\n",
        "# Удаляем лишние столбцы\n",
        "df.drop(['JobStartDate', 'Value'], axis=1, inplace= True)"
      ],
      "metadata": {
        "id": "LpIFFOGhtkBW"
      },
      "execution_count": 175,
      "outputs": []
    },
    {
      "cell_type": "markdown",
      "source": [
        "## Должность Клиента"
      ],
      "metadata": {
        "id": "ScfGHM3p6wNW"
      }
    },
    {
      "cell_type": "markdown",
      "source": [
        "С признаком `Position` есть трудности - часто одни и те же должности написаны различными способами.\n",
        "\n",
        "По комментариям Заказчика данный столбец не влияет на принятие решения Банками, поэтому использовать его не будем."
      ],
      "metadata": {
        "id": "e9MfH2I97zN-"
      }
    },
    {
      "cell_type": "markdown",
      "source": [
        "## Пол"
      ],
      "metadata": {
        "id": "A74m3Cte78ei"
      }
    },
    {
      "cell_type": "markdown",
      "source": [
        "В поле `Gender` произведем замену числовых значений на категориальные, чтобы в дальнейшем сделать One-hot encoding"
      ],
      "metadata": {
        "id": "hIJkgHrg7912"
      }
    },
    {
      "cell_type": "code",
      "source": [
        "df['Gender'].value_counts()"
      ],
      "metadata": {
        "id": "cDRa3Gwsjyov",
        "colab": {
          "base_uri": "https://localhost:8080/",
          "height": 0
        },
        "outputId": "d027bd24-0f10-4f55-8418-9d5d87abd6ac"
      },
      "execution_count": 176,
      "outputs": [
        {
          "output_type": "execute_result",
          "data": {
            "text/plain": [
              "0.0    4466\n",
              "1.0    1998\n",
              "Name: Gender, dtype: int64"
            ]
          },
          "metadata": {},
          "execution_count": 176
        }
      ]
    },
    {
      "cell_type": "code",
      "source": [
        "df.loc[df['Gender'] == 0, 'Gender'] = 'Male'\n",
        "df.loc[df['Gender'] == 1, 'Gender'] = 'Female'\n",
        "\n",
        "data_types_dict = {'Gender': str}\n",
        "df = df.astype(data_types_dict)\n",
        "df.dtypes\n",
        "\n",
        "df['Gender'].value_counts()"
      ],
      "metadata": {
        "id": "Qbf68dN0FmSH",
        "colab": {
          "base_uri": "https://localhost:8080/",
          "height": 0
        },
        "outputId": "8fc7058a-fdd0-410d-c85c-051ca9c67b99"
      },
      "execution_count": 177,
      "outputs": [
        {
          "output_type": "execute_result",
          "data": {
            "text/plain": [
              "Male      4466\n",
              "Female    1998\n",
              "Name: Gender, dtype: int64"
            ]
          },
          "metadata": {},
          "execution_count": 177
        }
      ]
    },
    {
      "cell_type": "markdown",
      "source": [
        "## Семейное положение"
      ],
      "metadata": {
        "id": "oXOfRpmM8FTo"
      }
    },
    {
      "cell_type": "markdown",
      "source": [
        "Аналогично с полем `Family status`"
      ],
      "metadata": {
        "id": "w78bppFy8IXf"
      }
    },
    {
      "cell_type": "code",
      "source": [
        "df['Family status'].value_counts()"
      ],
      "metadata": {
        "id": "9iFw72BBkBAf",
        "colab": {
          "base_uri": "https://localhost:8080/",
          "height": 0
        },
        "outputId": "5e5de3c4-56b8-4091-a0d7-337123b76d90"
      },
      "execution_count": 178,
      "outputs": [
        {
          "output_type": "execute_result",
          "data": {
            "text/plain": [
              "Никогда в браке не состоял(а)               4383\n",
              "Женат / замужем                             1474\n",
              "Разведён / Разведена                         462\n",
              "Гражданский брак / совместное проживание      97\n",
              "Вдовец / вдова                                48\n",
              "Name: Family status, dtype: int64"
            ]
          },
          "metadata": {},
          "execution_count": 178
        }
      ]
    },
    {
      "cell_type": "markdown",
      "source": [
        "## Количество детей"
      ],
      "metadata": {
        "id": "fbv0gll6ASEm"
      }
    },
    {
      "cell_type": "markdown",
      "source": [
        "Поле `ChildCount` сделаем категориальным"
      ],
      "metadata": {
        "id": "yjDcHp7QAYLg"
      }
    },
    {
      "cell_type": "code",
      "source": [
        "df['ChildCount'].value_counts()"
      ],
      "metadata": {
        "id": "FThyIgszAT19",
        "colab": {
          "base_uri": "https://localhost:8080/",
          "height": 0
        },
        "outputId": "e592556e-91ed-421d-ab8a-9ebcff4a3f84"
      },
      "execution_count": 179,
      "outputs": [
        {
          "output_type": "execute_result",
          "data": {
            "text/plain": [
              "0.0    6102\n",
              "1.0     186\n",
              "2.0     140\n",
              "3.0      29\n",
              "4.0       6\n",
              "5.0       1\n",
              "Name: ChildCount, dtype: int64"
            ]
          },
          "metadata": {},
          "execution_count": 179
        }
      ]
    },
    {
      "cell_type": "code",
      "source": [
        "data_types_dict = {'ChildCount': str}\n",
        "df = df.astype(data_types_dict)"
      ],
      "metadata": {
        "id": "IRq8v-6BHswz"
      },
      "execution_count": 180,
      "outputs": []
    },
    {
      "cell_type": "markdown",
      "source": [
        "## Наличие СНИЛС"
      ],
      "metadata": {
        "id": "hmKC56JuAgRn"
      }
    },
    {
      "cell_type": "markdown",
      "source": [
        "Поле `SNILS` представляет из себя странную фичу - кажется, оно не должно оказывать влияние на принятие решения банком - перед окончательным формированием фич примем решение о его использовании\n",
        "\n",
        "В любом случае приведем его к категориальному виду"
      ],
      "metadata": {
        "id": "CZSUSBSnAj2F"
      }
    },
    {
      "cell_type": "code",
      "source": [
        "df['SNILS'].value_counts()"
      ],
      "metadata": {
        "id": "4REb1gsGAiAS",
        "colab": {
          "base_uri": "https://localhost:8080/",
          "height": 0
        },
        "outputId": "03ae3b7e-5945-4505-af2e-afdb13ba4e8a"
      },
      "execution_count": 181,
      "outputs": [
        {
          "output_type": "execute_result",
          "data": {
            "text/plain": [
              "0.0    4225\n",
              "1.0    2239\n",
              "Name: SNILS, dtype: int64"
            ]
          },
          "metadata": {},
          "execution_count": 181
        }
      ]
    },
    {
      "cell_type": "code",
      "source": [
        "df.loc[df['SNILS'] == 0, 'SNILS'] = 'Empty'\n",
        "df.loc[df['SNILS'] == 1, 'SNILS'] = 'Not_empty'\n",
        "\n",
        "data_types_dict = {'SNILS': str}\n",
        "df = df.astype(data_types_dict)\n",
        "df.dtypes\n",
        "\n",
        "df['SNILS'].value_counts()"
      ],
      "metadata": {
        "id": "ft5uUXI4HBHE",
        "colab": {
          "base_uri": "https://localhost:8080/",
          "height": 0
        },
        "outputId": "216e0e73-0447-480a-8ca9-cad81ca22a4a"
      },
      "execution_count": 182,
      "outputs": [
        {
          "output_type": "execute_result",
          "data": {
            "text/plain": [
              "Empty        4225\n",
              "Not_empty    2239\n",
              "Name: SNILS, dtype: int64"
            ]
          },
          "metadata": {},
          "execution_count": 182
        }
      ]
    },
    {
      "cell_type": "markdown",
      "source": [
        "## Коэффициент долговой нагрузки"
      ],
      "metadata": {
        "id": "ioQRq8mjA4Va"
      }
    },
    {
      "cell_type": "markdown",
      "source": [
        "В датасете есть поля `MonthProfit`, `MonthExpense`, `Loan_amount`, `Loan_term`\n",
        "\n",
        "По отдельности данные фичи не представляют практической ценности для Банка припринятии решения о кредитовании, важно их соотношение.\n",
        "\n",
        "Поэтому сформируем новую фичу `DebtRatio` как отношение среднемесячной суммы запрашиваемого кредита к разнице дохода и расхода"
      ],
      "metadata": {
        "id": "CcSoClXlA7kH"
      }
    },
    {
      "cell_type": "code",
      "source": [
        "# Вычисление коэффициента долговой нагрузки и сохранение в новом столбце DebtRatio\n",
        "df['DebtRatio'] = (df['Loan_amount'] / df['Loan_term']) / (df['MonthProfit'] - df['MonthExpense'])\n",
        "\n",
        "# Удаляем лишние столбцы\n",
        "df.drop('Loan_amount', axis=1, inplace= True)\n",
        "df.drop('Loan_term', axis=1, inplace= True)\n",
        "df.drop('MonthProfit', axis=1, inplace= True)\n",
        "df.drop('MonthExpense', axis=1, inplace= True)"
      ],
      "metadata": {
        "id": "b351YOkpBmHM"
      },
      "execution_count": 183,
      "outputs": []
    },
    {
      "cell_type": "markdown",
      "source": [
        "Посмотрим на получившиеся значения"
      ],
      "metadata": {
        "id": "D1e56L3ZC-7H"
      }
    },
    {
      "cell_type": "code",
      "source": [
        "df['DebtRatio'].describe()"
      ],
      "metadata": {
        "id": "lSxXowdHCW9c",
        "colab": {
          "base_uri": "https://localhost:8080/",
          "height": 0
        },
        "outputId": "bed4acba-da38-44b4-ee17-b8bb5c95e44a"
      },
      "execution_count": 184,
      "outputs": [
        {
          "output_type": "execute_result",
          "data": {
            "text/plain": [
              "count    6464.000000\n",
              "mean             inf\n",
              "std              NaN\n",
              "min        -0.515152\n",
              "25%         0.033333\n",
              "50%         0.048958\n",
              "75%         0.075758\n",
              "max              inf\n",
              "Name: DebtRatio, dtype: float64"
            ]
          },
          "metadata": {},
          "execution_count": 184
        }
      ]
    },
    {
      "cell_type": "markdown",
      "source": [
        "Видим, что максимальное значение inf. Это получается в случае, когда доходы-расходы = 0/\n",
        "\n",
        "Посмотрим, много ли таких строк"
      ],
      "metadata": {
        "id": "7vSFSgVkDEUu"
      }
    },
    {
      "cell_type": "code",
      "source": [
        "df[df['DebtRatio'] == float(\"inf\")]"
      ],
      "metadata": {
        "id": "aQLG_qv3URAz",
        "colab": {
          "base_uri": "https://localhost:8080/",
          "height": 551
        },
        "outputId": "0a75a3a5-9bbe-4b3d-cdbf-7bf9c920c77a"
      },
      "execution_count": 185,
      "outputs": [
        {
          "output_type": "execute_result",
          "data": {
            "text/plain": [
              "                     education                           employment status  \\\n",
              "650                    Среднее                                   Пенсионер   \n",
              "1310       Высшее - специалист  Работаю по найму полный рабочий день/служу   \n",
              "1348       Неоконченное высшее  Работаю по найму полный рабочий день/служу   \n",
              "1367       Неоконченное высшее  Работаю по найму полный рабочий день/служу   \n",
              "1464                   Среднее                            Декретный отпуск   \n",
              "1583       Высшее - специалист  Работаю по найму полный рабочий день/служу   \n",
              "1588       Высшее - специалист  Работаю по найму полный рабочий день/служу   \n",
              "1652       Неоконченное высшее  Работаю по найму полный рабочий день/служу   \n",
              "1653       Неоконченное высшее  Работаю по найму полный рабочий день/служу   \n",
              "2267  Среднее профессиональное                                   Пенсионер   \n",
              "2316       Высшее - специалист  Работаю по найму полный рабочий день/служу   \n",
              "3258       Неоконченное высшее  Работаю по найму полный рабочий день/служу   \n",
              "3891  Среднее профессиональное  Работаю по найму полный рабочий день/служу   \n",
              "4321                   Среднее  Работаю по найму полный рабочий день/служу   \n",
              "4479                   Среднее  Работаю по найму полный рабочий день/служу   \n",
              "4845                   Среднее                            Собственное дело   \n",
              "\n",
              "           Position  Gender                  Family status ChildCount  \\\n",
              "650             пен  Female  Никогда в браке не состоял(а)        0.0   \n",
              "1310        Учитель    Male  Никогда в браке не состоял(а)        1.0   \n",
              "1348             то    Male  Никогда в браке не состоял(а)        0.0   \n",
              "1367             то    Male  Никогда в браке не состоял(а)        0.0   \n",
              "1464          офици    Male                Женат / замужем        1.0   \n",
              "1583  электромонтер    Male           Разведён / Разведена        0.0   \n",
              "1588  электромонтер    Male           Разведён / Разведена        0.0   \n",
              "1652             то    Male  Никогда в браке не состоял(а)        0.0   \n",
              "1653             то    Male  Никогда в браке не состоял(а)        0.0   \n",
              "2267     эл. монтер  Female                Женат / замужем        0.0   \n",
              "2316       охранник  Female                Женат / замужем        2.0   \n",
              "3258     кладовщик   Female                Женат / замужем        0.0   \n",
              "3891     медсестра     Male           Разведён / Разведена        0.0   \n",
              "4321      монтажник  Female           Разведён / Разведена        1.0   \n",
              "4479       машинист  Female                Женат / замужем        1.0   \n",
              "4845    самозанятый  Female  Никогда в браке не состоял(а)        0.0   \n",
              "\n",
              "          SNILS  BankA_decision  BankB_decision  BankC_decision  \\\n",
              "650       Empty               1               1               1   \n",
              "1310      Empty               1               1               1   \n",
              "1348      Empty               1               1               0   \n",
              "1367      Empty               1               0               1   \n",
              "1464      Empty               1               1               1   \n",
              "1583      Empty               1               1               1   \n",
              "1588      Empty               0               1               1   \n",
              "1652      Empty               1               0               1   \n",
              "1653      Empty               1               0               1   \n",
              "2267  Not_empty               0               1               1   \n",
              "2316  Not_empty               1               1               1   \n",
              "3258  Not_empty               1               1               1   \n",
              "3891  Not_empty               1               1               0   \n",
              "4321  Not_empty               1               1               0   \n",
              "4479  Not_empty               1               1               2   \n",
              "4845  Not_empty               1               1               0   \n",
              "\n",
              "      BankD_decision  BankE_decision  Merch_code    Goods_category   Age  \\\n",
              "650                1               1        18.0  Medical_services  28.0   \n",
              "1310               1               1        74.0         Furniture  55.0   \n",
              "1348               1               1        62.0    Mobile_devices  21.0   \n",
              "1367               1               1        43.0            Travel  21.0   \n",
              "1464               1               0        15.0  Medical_services  23.0   \n",
              "1583               1               1        39.0         Education  48.0   \n",
              "1588               1               1        33.0         Education  48.0   \n",
              "1652               1               0         8.0             Other  21.0   \n",
              "1653               0               1        45.0            Travel  21.0   \n",
              "2267               0               1         2.0             Other  64.0   \n",
              "2316               1               1        74.0         Furniture  48.0   \n",
              "3258               1               1        34.0         Education  26.0   \n",
              "3891               1               0        75.0         Furniture  53.0   \n",
              "4321               0               1        42.0            Travel  46.0   \n",
              "4479               1               0        65.0    Mobile_devices  44.0   \n",
              "4845               1               0        49.0            Travel  37.0   \n",
              "\n",
              "      Seniority  DebtRatio  \n",
              "650         9.0        inf  \n",
              "1310       33.0        inf  \n",
              "1348        0.0        inf  \n",
              "1367        0.0        inf  \n",
              "1464        2.0        inf  \n",
              "1583       24.0        inf  \n",
              "1588       24.0        inf  \n",
              "1652        0.0        inf  \n",
              "1653        0.0        inf  \n",
              "2267       23.0        inf  \n",
              "2316        3.0        inf  \n",
              "3258        0.0        inf  \n",
              "3891       32.0        inf  \n",
              "4321        4.0        inf  \n",
              "4479        0.0        inf  \n",
              "4845        0.0        inf  "
            ],
            "text/html": [
              "\n",
              "  <div id=\"df-78584a39-c773-49f2-8c4b-edcb40e2d75e\" class=\"colab-df-container\">\n",
              "    <div>\n",
              "<style scoped>\n",
              "    .dataframe tbody tr th:only-of-type {\n",
              "        vertical-align: middle;\n",
              "    }\n",
              "\n",
              "    .dataframe tbody tr th {\n",
              "        vertical-align: top;\n",
              "    }\n",
              "\n",
              "    .dataframe thead th {\n",
              "        text-align: right;\n",
              "    }\n",
              "</style>\n",
              "<table border=\"1\" class=\"dataframe\">\n",
              "  <thead>\n",
              "    <tr style=\"text-align: right;\">\n",
              "      <th></th>\n",
              "      <th>education</th>\n",
              "      <th>employment status</th>\n",
              "      <th>Position</th>\n",
              "      <th>Gender</th>\n",
              "      <th>Family status</th>\n",
              "      <th>ChildCount</th>\n",
              "      <th>SNILS</th>\n",
              "      <th>BankA_decision</th>\n",
              "      <th>BankB_decision</th>\n",
              "      <th>BankC_decision</th>\n",
              "      <th>BankD_decision</th>\n",
              "      <th>BankE_decision</th>\n",
              "      <th>Merch_code</th>\n",
              "      <th>Goods_category</th>\n",
              "      <th>Age</th>\n",
              "      <th>Seniority</th>\n",
              "      <th>DebtRatio</th>\n",
              "    </tr>\n",
              "  </thead>\n",
              "  <tbody>\n",
              "    <tr>\n",
              "      <th>650</th>\n",
              "      <td>Среднее</td>\n",
              "      <td>Пенсионер</td>\n",
              "      <td>пен</td>\n",
              "      <td>Female</td>\n",
              "      <td>Никогда в браке не состоял(а)</td>\n",
              "      <td>0.0</td>\n",
              "      <td>Empty</td>\n",
              "      <td>1</td>\n",
              "      <td>1</td>\n",
              "      <td>1</td>\n",
              "      <td>1</td>\n",
              "      <td>1</td>\n",
              "      <td>18.0</td>\n",
              "      <td>Medical_services</td>\n",
              "      <td>28.0</td>\n",
              "      <td>9.0</td>\n",
              "      <td>inf</td>\n",
              "    </tr>\n",
              "    <tr>\n",
              "      <th>1310</th>\n",
              "      <td>Высшее - специалист</td>\n",
              "      <td>Работаю по найму полный рабочий день/служу</td>\n",
              "      <td>Учитель</td>\n",
              "      <td>Male</td>\n",
              "      <td>Никогда в браке не состоял(а)</td>\n",
              "      <td>1.0</td>\n",
              "      <td>Empty</td>\n",
              "      <td>1</td>\n",
              "      <td>1</td>\n",
              "      <td>1</td>\n",
              "      <td>1</td>\n",
              "      <td>1</td>\n",
              "      <td>74.0</td>\n",
              "      <td>Furniture</td>\n",
              "      <td>55.0</td>\n",
              "      <td>33.0</td>\n",
              "      <td>inf</td>\n",
              "    </tr>\n",
              "    <tr>\n",
              "      <th>1348</th>\n",
              "      <td>Неоконченное высшее</td>\n",
              "      <td>Работаю по найму полный рабочий день/служу</td>\n",
              "      <td>то</td>\n",
              "      <td>Male</td>\n",
              "      <td>Никогда в браке не состоял(а)</td>\n",
              "      <td>0.0</td>\n",
              "      <td>Empty</td>\n",
              "      <td>1</td>\n",
              "      <td>1</td>\n",
              "      <td>0</td>\n",
              "      <td>1</td>\n",
              "      <td>1</td>\n",
              "      <td>62.0</td>\n",
              "      <td>Mobile_devices</td>\n",
              "      <td>21.0</td>\n",
              "      <td>0.0</td>\n",
              "      <td>inf</td>\n",
              "    </tr>\n",
              "    <tr>\n",
              "      <th>1367</th>\n",
              "      <td>Неоконченное высшее</td>\n",
              "      <td>Работаю по найму полный рабочий день/служу</td>\n",
              "      <td>то</td>\n",
              "      <td>Male</td>\n",
              "      <td>Никогда в браке не состоял(а)</td>\n",
              "      <td>0.0</td>\n",
              "      <td>Empty</td>\n",
              "      <td>1</td>\n",
              "      <td>0</td>\n",
              "      <td>1</td>\n",
              "      <td>1</td>\n",
              "      <td>1</td>\n",
              "      <td>43.0</td>\n",
              "      <td>Travel</td>\n",
              "      <td>21.0</td>\n",
              "      <td>0.0</td>\n",
              "      <td>inf</td>\n",
              "    </tr>\n",
              "    <tr>\n",
              "      <th>1464</th>\n",
              "      <td>Среднее</td>\n",
              "      <td>Декретный отпуск</td>\n",
              "      <td>офици</td>\n",
              "      <td>Male</td>\n",
              "      <td>Женат / замужем</td>\n",
              "      <td>1.0</td>\n",
              "      <td>Empty</td>\n",
              "      <td>1</td>\n",
              "      <td>1</td>\n",
              "      <td>1</td>\n",
              "      <td>1</td>\n",
              "      <td>0</td>\n",
              "      <td>15.0</td>\n",
              "      <td>Medical_services</td>\n",
              "      <td>23.0</td>\n",
              "      <td>2.0</td>\n",
              "      <td>inf</td>\n",
              "    </tr>\n",
              "    <tr>\n",
              "      <th>1583</th>\n",
              "      <td>Высшее - специалист</td>\n",
              "      <td>Работаю по найму полный рабочий день/служу</td>\n",
              "      <td>электромонтер</td>\n",
              "      <td>Male</td>\n",
              "      <td>Разведён / Разведена</td>\n",
              "      <td>0.0</td>\n",
              "      <td>Empty</td>\n",
              "      <td>1</td>\n",
              "      <td>1</td>\n",
              "      <td>1</td>\n",
              "      <td>1</td>\n",
              "      <td>1</td>\n",
              "      <td>39.0</td>\n",
              "      <td>Education</td>\n",
              "      <td>48.0</td>\n",
              "      <td>24.0</td>\n",
              "      <td>inf</td>\n",
              "    </tr>\n",
              "    <tr>\n",
              "      <th>1588</th>\n",
              "      <td>Высшее - специалист</td>\n",
              "      <td>Работаю по найму полный рабочий день/служу</td>\n",
              "      <td>электромонтер</td>\n",
              "      <td>Male</td>\n",
              "      <td>Разведён / Разведена</td>\n",
              "      <td>0.0</td>\n",
              "      <td>Empty</td>\n",
              "      <td>0</td>\n",
              "      <td>1</td>\n",
              "      <td>1</td>\n",
              "      <td>1</td>\n",
              "      <td>1</td>\n",
              "      <td>33.0</td>\n",
              "      <td>Education</td>\n",
              "      <td>48.0</td>\n",
              "      <td>24.0</td>\n",
              "      <td>inf</td>\n",
              "    </tr>\n",
              "    <tr>\n",
              "      <th>1652</th>\n",
              "      <td>Неоконченное высшее</td>\n",
              "      <td>Работаю по найму полный рабочий день/служу</td>\n",
              "      <td>то</td>\n",
              "      <td>Male</td>\n",
              "      <td>Никогда в браке не состоял(а)</td>\n",
              "      <td>0.0</td>\n",
              "      <td>Empty</td>\n",
              "      <td>1</td>\n",
              "      <td>0</td>\n",
              "      <td>1</td>\n",
              "      <td>1</td>\n",
              "      <td>0</td>\n",
              "      <td>8.0</td>\n",
              "      <td>Other</td>\n",
              "      <td>21.0</td>\n",
              "      <td>0.0</td>\n",
              "      <td>inf</td>\n",
              "    </tr>\n",
              "    <tr>\n",
              "      <th>1653</th>\n",
              "      <td>Неоконченное высшее</td>\n",
              "      <td>Работаю по найму полный рабочий день/служу</td>\n",
              "      <td>то</td>\n",
              "      <td>Male</td>\n",
              "      <td>Никогда в браке не состоял(а)</td>\n",
              "      <td>0.0</td>\n",
              "      <td>Empty</td>\n",
              "      <td>1</td>\n",
              "      <td>0</td>\n",
              "      <td>1</td>\n",
              "      <td>0</td>\n",
              "      <td>1</td>\n",
              "      <td>45.0</td>\n",
              "      <td>Travel</td>\n",
              "      <td>21.0</td>\n",
              "      <td>0.0</td>\n",
              "      <td>inf</td>\n",
              "    </tr>\n",
              "    <tr>\n",
              "      <th>2267</th>\n",
              "      <td>Среднее профессиональное</td>\n",
              "      <td>Пенсионер</td>\n",
              "      <td>эл. монтер</td>\n",
              "      <td>Female</td>\n",
              "      <td>Женат / замужем</td>\n",
              "      <td>0.0</td>\n",
              "      <td>Not_empty</td>\n",
              "      <td>0</td>\n",
              "      <td>1</td>\n",
              "      <td>1</td>\n",
              "      <td>0</td>\n",
              "      <td>1</td>\n",
              "      <td>2.0</td>\n",
              "      <td>Other</td>\n",
              "      <td>64.0</td>\n",
              "      <td>23.0</td>\n",
              "      <td>inf</td>\n",
              "    </tr>\n",
              "    <tr>\n",
              "      <th>2316</th>\n",
              "      <td>Высшее - специалист</td>\n",
              "      <td>Работаю по найму полный рабочий день/служу</td>\n",
              "      <td>охранник</td>\n",
              "      <td>Female</td>\n",
              "      <td>Женат / замужем</td>\n",
              "      <td>2.0</td>\n",
              "      <td>Not_empty</td>\n",
              "      <td>1</td>\n",
              "      <td>1</td>\n",
              "      <td>1</td>\n",
              "      <td>1</td>\n",
              "      <td>1</td>\n",
              "      <td>74.0</td>\n",
              "      <td>Furniture</td>\n",
              "      <td>48.0</td>\n",
              "      <td>3.0</td>\n",
              "      <td>inf</td>\n",
              "    </tr>\n",
              "    <tr>\n",
              "      <th>3258</th>\n",
              "      <td>Неоконченное высшее</td>\n",
              "      <td>Работаю по найму полный рабочий день/служу</td>\n",
              "      <td>кладовщик</td>\n",
              "      <td>Female</td>\n",
              "      <td>Женат / замужем</td>\n",
              "      <td>0.0</td>\n",
              "      <td>Not_empty</td>\n",
              "      <td>1</td>\n",
              "      <td>1</td>\n",
              "      <td>1</td>\n",
              "      <td>1</td>\n",
              "      <td>1</td>\n",
              "      <td>34.0</td>\n",
              "      <td>Education</td>\n",
              "      <td>26.0</td>\n",
              "      <td>0.0</td>\n",
              "      <td>inf</td>\n",
              "    </tr>\n",
              "    <tr>\n",
              "      <th>3891</th>\n",
              "      <td>Среднее профессиональное</td>\n",
              "      <td>Работаю по найму полный рабочий день/служу</td>\n",
              "      <td>медсестра</td>\n",
              "      <td>Male</td>\n",
              "      <td>Разведён / Разведена</td>\n",
              "      <td>0.0</td>\n",
              "      <td>Not_empty</td>\n",
              "      <td>1</td>\n",
              "      <td>1</td>\n",
              "      <td>0</td>\n",
              "      <td>1</td>\n",
              "      <td>0</td>\n",
              "      <td>75.0</td>\n",
              "      <td>Furniture</td>\n",
              "      <td>53.0</td>\n",
              "      <td>32.0</td>\n",
              "      <td>inf</td>\n",
              "    </tr>\n",
              "    <tr>\n",
              "      <th>4321</th>\n",
              "      <td>Среднее</td>\n",
              "      <td>Работаю по найму полный рабочий день/служу</td>\n",
              "      <td>монтажник</td>\n",
              "      <td>Female</td>\n",
              "      <td>Разведён / Разведена</td>\n",
              "      <td>1.0</td>\n",
              "      <td>Not_empty</td>\n",
              "      <td>1</td>\n",
              "      <td>1</td>\n",
              "      <td>0</td>\n",
              "      <td>0</td>\n",
              "      <td>1</td>\n",
              "      <td>42.0</td>\n",
              "      <td>Travel</td>\n",
              "      <td>46.0</td>\n",
              "      <td>4.0</td>\n",
              "      <td>inf</td>\n",
              "    </tr>\n",
              "    <tr>\n",
              "      <th>4479</th>\n",
              "      <td>Среднее</td>\n",
              "      <td>Работаю по найму полный рабочий день/служу</td>\n",
              "      <td>машинист</td>\n",
              "      <td>Female</td>\n",
              "      <td>Женат / замужем</td>\n",
              "      <td>1.0</td>\n",
              "      <td>Not_empty</td>\n",
              "      <td>1</td>\n",
              "      <td>1</td>\n",
              "      <td>2</td>\n",
              "      <td>1</td>\n",
              "      <td>0</td>\n",
              "      <td>65.0</td>\n",
              "      <td>Mobile_devices</td>\n",
              "      <td>44.0</td>\n",
              "      <td>0.0</td>\n",
              "      <td>inf</td>\n",
              "    </tr>\n",
              "    <tr>\n",
              "      <th>4845</th>\n",
              "      <td>Среднее</td>\n",
              "      <td>Собственное дело</td>\n",
              "      <td>самозанятый</td>\n",
              "      <td>Female</td>\n",
              "      <td>Никогда в браке не состоял(а)</td>\n",
              "      <td>0.0</td>\n",
              "      <td>Not_empty</td>\n",
              "      <td>1</td>\n",
              "      <td>1</td>\n",
              "      <td>0</td>\n",
              "      <td>1</td>\n",
              "      <td>0</td>\n",
              "      <td>49.0</td>\n",
              "      <td>Travel</td>\n",
              "      <td>37.0</td>\n",
              "      <td>0.0</td>\n",
              "      <td>inf</td>\n",
              "    </tr>\n",
              "  </tbody>\n",
              "</table>\n",
              "</div>\n",
              "    <div class=\"colab-df-buttons\">\n",
              "\n",
              "  <div class=\"colab-df-container\">\n",
              "    <button class=\"colab-df-convert\" onclick=\"convertToInteractive('df-78584a39-c773-49f2-8c4b-edcb40e2d75e')\"\n",
              "            title=\"Convert this dataframe to an interactive table.\"\n",
              "            style=\"display:none;\">\n",
              "\n",
              "  <svg xmlns=\"http://www.w3.org/2000/svg\" height=\"24px\" viewBox=\"0 -960 960 960\">\n",
              "    <path d=\"M120-120v-720h720v720H120Zm60-500h600v-160H180v160Zm220 220h160v-160H400v160Zm0 220h160v-160H400v160ZM180-400h160v-160H180v160Zm440 0h160v-160H620v160ZM180-180h160v-160H180v160Zm440 0h160v-160H620v160Z\"/>\n",
              "  </svg>\n",
              "    </button>\n",
              "\n",
              "  <style>\n",
              "    .colab-df-container {\n",
              "      display:flex;\n",
              "      gap: 12px;\n",
              "    }\n",
              "\n",
              "    .colab-df-convert {\n",
              "      background-color: #E8F0FE;\n",
              "      border: none;\n",
              "      border-radius: 50%;\n",
              "      cursor: pointer;\n",
              "      display: none;\n",
              "      fill: #1967D2;\n",
              "      height: 32px;\n",
              "      padding: 0 0 0 0;\n",
              "      width: 32px;\n",
              "    }\n",
              "\n",
              "    .colab-df-convert:hover {\n",
              "      background-color: #E2EBFA;\n",
              "      box-shadow: 0px 1px 2px rgba(60, 64, 67, 0.3), 0px 1px 3px 1px rgba(60, 64, 67, 0.15);\n",
              "      fill: #174EA6;\n",
              "    }\n",
              "\n",
              "    .colab-df-buttons div {\n",
              "      margin-bottom: 4px;\n",
              "    }\n",
              "\n",
              "    [theme=dark] .colab-df-convert {\n",
              "      background-color: #3B4455;\n",
              "      fill: #D2E3FC;\n",
              "    }\n",
              "\n",
              "    [theme=dark] .colab-df-convert:hover {\n",
              "      background-color: #434B5C;\n",
              "      box-shadow: 0px 1px 3px 1px rgba(0, 0, 0, 0.15);\n",
              "      filter: drop-shadow(0px 1px 2px rgba(0, 0, 0, 0.3));\n",
              "      fill: #FFFFFF;\n",
              "    }\n",
              "  </style>\n",
              "\n",
              "    <script>\n",
              "      const buttonEl =\n",
              "        document.querySelector('#df-78584a39-c773-49f2-8c4b-edcb40e2d75e button.colab-df-convert');\n",
              "      buttonEl.style.display =\n",
              "        google.colab.kernel.accessAllowed ? 'block' : 'none';\n",
              "\n",
              "      async function convertToInteractive(key) {\n",
              "        const element = document.querySelector('#df-78584a39-c773-49f2-8c4b-edcb40e2d75e');\n",
              "        const dataTable =\n",
              "          await google.colab.kernel.invokeFunction('convertToInteractive',\n",
              "                                                    [key], {});\n",
              "        if (!dataTable) return;\n",
              "\n",
              "        const docLinkHtml = 'Like what you see? Visit the ' +\n",
              "          '<a target=\"_blank\" href=https://colab.research.google.com/notebooks/data_table.ipynb>data table notebook</a>'\n",
              "          + ' to learn more about interactive tables.';\n",
              "        element.innerHTML = '';\n",
              "        dataTable['output_type'] = 'display_data';\n",
              "        await google.colab.output.renderOutput(dataTable, element);\n",
              "        const docLink = document.createElement('div');\n",
              "        docLink.innerHTML = docLinkHtml;\n",
              "        element.appendChild(docLink);\n",
              "      }\n",
              "    </script>\n",
              "  </div>\n",
              "\n",
              "\n",
              "<div id=\"df-81651c2f-c019-4ad0-a3cc-eb4300a55103\">\n",
              "  <button class=\"colab-df-quickchart\" onclick=\"quickchart('df-81651c2f-c019-4ad0-a3cc-eb4300a55103')\"\n",
              "            title=\"Suggest charts\"\n",
              "            style=\"display:none;\">\n",
              "\n",
              "<svg xmlns=\"http://www.w3.org/2000/svg\" height=\"24px\"viewBox=\"0 0 24 24\"\n",
              "     width=\"24px\">\n",
              "    <g>\n",
              "        <path d=\"M19 3H5c-1.1 0-2 .9-2 2v14c0 1.1.9 2 2 2h14c1.1 0 2-.9 2-2V5c0-1.1-.9-2-2-2zM9 17H7v-7h2v7zm4 0h-2V7h2v10zm4 0h-2v-4h2v4z\"/>\n",
              "    </g>\n",
              "</svg>\n",
              "  </button>\n",
              "\n",
              "<style>\n",
              "  .colab-df-quickchart {\n",
              "      --bg-color: #E8F0FE;\n",
              "      --fill-color: #1967D2;\n",
              "      --hover-bg-color: #E2EBFA;\n",
              "      --hover-fill-color: #174EA6;\n",
              "      --disabled-fill-color: #AAA;\n",
              "      --disabled-bg-color: #DDD;\n",
              "  }\n",
              "\n",
              "  [theme=dark] .colab-df-quickchart {\n",
              "      --bg-color: #3B4455;\n",
              "      --fill-color: #D2E3FC;\n",
              "      --hover-bg-color: #434B5C;\n",
              "      --hover-fill-color: #FFFFFF;\n",
              "      --disabled-bg-color: #3B4455;\n",
              "      --disabled-fill-color: #666;\n",
              "  }\n",
              "\n",
              "  .colab-df-quickchart {\n",
              "    background-color: var(--bg-color);\n",
              "    border: none;\n",
              "    border-radius: 50%;\n",
              "    cursor: pointer;\n",
              "    display: none;\n",
              "    fill: var(--fill-color);\n",
              "    height: 32px;\n",
              "    padding: 0;\n",
              "    width: 32px;\n",
              "  }\n",
              "\n",
              "  .colab-df-quickchart:hover {\n",
              "    background-color: var(--hover-bg-color);\n",
              "    box-shadow: 0 1px 2px rgba(60, 64, 67, 0.3), 0 1px 3px 1px rgba(60, 64, 67, 0.15);\n",
              "    fill: var(--button-hover-fill-color);\n",
              "  }\n",
              "\n",
              "  .colab-df-quickchart-complete:disabled,\n",
              "  .colab-df-quickchart-complete:disabled:hover {\n",
              "    background-color: var(--disabled-bg-color);\n",
              "    fill: var(--disabled-fill-color);\n",
              "    box-shadow: none;\n",
              "  }\n",
              "\n",
              "  .colab-df-spinner {\n",
              "    border: 2px solid var(--fill-color);\n",
              "    border-color: transparent;\n",
              "    border-bottom-color: var(--fill-color);\n",
              "    animation:\n",
              "      spin 1s steps(1) infinite;\n",
              "  }\n",
              "\n",
              "  @keyframes spin {\n",
              "    0% {\n",
              "      border-color: transparent;\n",
              "      border-bottom-color: var(--fill-color);\n",
              "      border-left-color: var(--fill-color);\n",
              "    }\n",
              "    20% {\n",
              "      border-color: transparent;\n",
              "      border-left-color: var(--fill-color);\n",
              "      border-top-color: var(--fill-color);\n",
              "    }\n",
              "    30% {\n",
              "      border-color: transparent;\n",
              "      border-left-color: var(--fill-color);\n",
              "      border-top-color: var(--fill-color);\n",
              "      border-right-color: var(--fill-color);\n",
              "    }\n",
              "    40% {\n",
              "      border-color: transparent;\n",
              "      border-right-color: var(--fill-color);\n",
              "      border-top-color: var(--fill-color);\n",
              "    }\n",
              "    60% {\n",
              "      border-color: transparent;\n",
              "      border-right-color: var(--fill-color);\n",
              "    }\n",
              "    80% {\n",
              "      border-color: transparent;\n",
              "      border-right-color: var(--fill-color);\n",
              "      border-bottom-color: var(--fill-color);\n",
              "    }\n",
              "    90% {\n",
              "      border-color: transparent;\n",
              "      border-bottom-color: var(--fill-color);\n",
              "    }\n",
              "  }\n",
              "</style>\n",
              "\n",
              "  <script>\n",
              "    async function quickchart(key) {\n",
              "      const quickchartButtonEl =\n",
              "        document.querySelector('#' + key + ' button');\n",
              "      quickchartButtonEl.disabled = true;  // To prevent multiple clicks.\n",
              "      quickchartButtonEl.classList.add('colab-df-spinner');\n",
              "      try {\n",
              "        const charts = await google.colab.kernel.invokeFunction(\n",
              "            'suggestCharts', [key], {});\n",
              "      } catch (error) {\n",
              "        console.error('Error during call to suggestCharts:', error);\n",
              "      }\n",
              "      quickchartButtonEl.classList.remove('colab-df-spinner');\n",
              "      quickchartButtonEl.classList.add('colab-df-quickchart-complete');\n",
              "    }\n",
              "    (() => {\n",
              "      let quickchartButtonEl =\n",
              "        document.querySelector('#df-81651c2f-c019-4ad0-a3cc-eb4300a55103 button');\n",
              "      quickchartButtonEl.style.display =\n",
              "        google.colab.kernel.accessAllowed ? 'block' : 'none';\n",
              "    })();\n",
              "  </script>\n",
              "</div>\n",
              "    </div>\n",
              "  </div>\n"
            ]
          },
          "metadata": {},
          "execution_count": 185
        }
      ]
    },
    {
      "cell_type": "markdown",
      "source": [
        "Строк не много, предлагаем от них избавиться, иначе модель не будет работать"
      ],
      "metadata": {
        "id": "WoIQ9gNvUkls"
      }
    },
    {
      "cell_type": "code",
      "source": [
        "df = df[(df['DebtRatio'] != float(\"inf\"))]"
      ],
      "metadata": {
        "id": "mAqVkUz6Uqi7"
      },
      "execution_count": 186,
      "outputs": []
    },
    {
      "cell_type": "markdown",
      "source": [
        "## Код продавца товара"
      ],
      "metadata": {
        "id": "9f5R_N5z8PDq"
      }
    },
    {
      "cell_type": "markdown",
      "source": [
        "Сделаем поле категориальным"
      ],
      "metadata": {
        "id": "7tHwgSGV8VVO"
      }
    },
    {
      "cell_type": "code",
      "source": [
        "df['Merch_code'].value_counts()"
      ],
      "metadata": {
        "id": "trSvWIMTkSbp",
        "colab": {
          "base_uri": "https://localhost:8080/",
          "height": 0
        },
        "outputId": "127766e8-e1b4-4c6c-d746-979450937254"
      },
      "execution_count": 187,
      "outputs": [
        {
          "output_type": "execute_result",
          "data": {
            "text/plain": [
              "35.0    109\n",
              "62.0    107\n",
              "11.0    106\n",
              "74.0    105\n",
              "76.0    104\n",
              "       ... \n",
              "12.0     84\n",
              "36.0     82\n",
              "6.0      79\n",
              "66.0     77\n",
              "72.0     75\n",
              "Name: Merch_code, Length: 70, dtype: int64"
            ]
          },
          "metadata": {},
          "execution_count": 187
        }
      ]
    },
    {
      "cell_type": "code",
      "source": [
        "data_types_dict = {'Merch_code': int}\n",
        "data_types_dict = {'Merch_code': str}\n",
        "df = df.astype(data_types_dict)"
      ],
      "metadata": {
        "id": "rxkOWnLyHaMj"
      },
      "execution_count": 188,
      "outputs": []
    },
    {
      "cell_type": "markdown",
      "source": [
        "## Тип товара"
      ],
      "metadata": {
        "id": "rsD9QaEODcws"
      }
    },
    {
      "cell_type": "markdown",
      "source": [
        "Данное поле пока также оставим без предварительной обработки"
      ],
      "metadata": {
        "id": "a23CSp-WDfdm"
      }
    },
    {
      "cell_type": "code",
      "source": [
        "df['Goods_category'].value_counts()"
      ],
      "metadata": {
        "id": "AbDHEqW4lcys",
        "colab": {
          "base_uri": "https://localhost:8080/",
          "height": 0
        },
        "outputId": "7598a0b5-c6fe-4131-9729-192b60a8743f"
      },
      "execution_count": 189,
      "outputs": [
        {
          "output_type": "execute_result",
          "data": {
            "text/plain": [
              "Furniture           947\n",
              "Mobile_devices      938\n",
              "Travel              933\n",
              "Medical_services    918\n",
              "Education           918\n",
              "Fitness             907\n",
              "Other               887\n",
              "Name: Goods_category, dtype: int64"
            ]
          },
          "metadata": {},
          "execution_count": 189
        }
      ]
    },
    {
      "cell_type": "markdown",
      "source": [
        "# Подготовка к построению моделей"
      ],
      "metadata": {
        "id": "soiok1xHEBM-"
      }
    },
    {
      "cell_type": "markdown",
      "source": [
        "## Подготовка фич для построения модели"
      ],
      "metadata": {
        "id": "yKCE9JPoELNZ"
      }
    },
    {
      "cell_type": "code",
      "source": [
        "df.info()"
      ],
      "metadata": {
        "id": "_vqfYuSlkln6",
        "colab": {
          "base_uri": "https://localhost:8080/",
          "height": 0
        },
        "outputId": "da4cbe7d-3692-4008-a6b3-83563b8d46ab"
      },
      "execution_count": 190,
      "outputs": [
        {
          "output_type": "stream",
          "name": "stdout",
          "text": [
            "<class 'pandas.core.frame.DataFrame'>\n",
            "Int64Index: 6448 entries, 0 to 6602\n",
            "Data columns (total 17 columns):\n",
            " #   Column             Non-Null Count  Dtype  \n",
            "---  ------             --------------  -----  \n",
            " 0   education          6448 non-null   object \n",
            " 1   employment status  6448 non-null   object \n",
            " 2   Position           6448 non-null   object \n",
            " 3   Gender             6448 non-null   object \n",
            " 4   Family status      6448 non-null   object \n",
            " 5   ChildCount         6448 non-null   object \n",
            " 6   SNILS              6448 non-null   object \n",
            " 7   BankA_decision     6448 non-null   int64  \n",
            " 8   BankB_decision     6448 non-null   int64  \n",
            " 9   BankC_decision     6448 non-null   int64  \n",
            " 10  BankD_decision     6448 non-null   int64  \n",
            " 11  BankE_decision     6448 non-null   int64  \n",
            " 12  Merch_code         6448 non-null   object \n",
            " 13  Goods_category     6448 non-null   object \n",
            " 14  Age                6448 non-null   float64\n",
            " 15  Seniority          6448 non-null   float64\n",
            " 16  DebtRatio          6448 non-null   float64\n",
            "dtypes: float64(3), int64(5), object(9)\n",
            "memory usage: 906.8+ KB\n"
          ]
        }
      ]
    },
    {
      "cell_type": "code",
      "source": [
        "# массив колонок с результатами\n",
        "result_columns = ['BankA_decision',\n",
        "                  'BankB_decision',\n",
        "                  'BankC_decision',\n",
        "                  'BankD_decision',\n",
        "                  'BankE_decision']\n",
        "# Массив колонок с фичами\n",
        "feature_columns = [x for x in df.columns if x not in result_columns]\n",
        "# Массив колонок с категориальными фичами\n",
        "cat_columns = []\n",
        "# Массив колонок с числовыми фичами\n",
        "num_columns = []\n",
        "\n",
        "#Заполняем массив колонок с категориальными и числовыми фичами\n",
        "for column_name in feature_columns:\n",
        "    if (df[column_name].dtypes == object):\n",
        "        cat_columns +=[column_name]\n",
        "    else:\n",
        "        num_columns +=[column_name]\n",
        "\n",
        "print('Категориальные данные:\\t ',cat_columns, '\\n Число столблцов = ',len(cat_columns))\n",
        "print('Числовые данные:\\t ',  num_columns, '\\n Число столблцов = ',len(num_columns))"
      ],
      "metadata": {
        "id": "KhhUd3IEEA0x",
        "colab": {
          "base_uri": "https://localhost:8080/",
          "height": 0
        },
        "outputId": "a1f7237d-9021-498e-881d-5f90a14ae268"
      },
      "execution_count": 191,
      "outputs": [
        {
          "output_type": "stream",
          "name": "stdout",
          "text": [
            "Категориальные данные:\t  ['education', 'employment status', 'Position', 'Gender', 'Family status', 'ChildCount', 'SNILS', 'Merch_code', 'Goods_category'] \n",
            " Число столблцов =  9\n",
            "Числовые данные:\t  ['Age', 'Seniority', 'DebtRatio'] \n",
            " Число столблцов =  3\n"
          ]
        }
      ]
    },
    {
      "cell_type": "markdown",
      "source": [
        "Удалим из списка фич поле `Position`"
      ],
      "metadata": {
        "id": "yNZVqgyndX9p"
      }
    },
    {
      "cell_type": "code",
      "source": [
        "cat_columns.remove('Position')"
      ],
      "metadata": {
        "id": "yLGi8sy5SARD"
      },
      "execution_count": 192,
      "outputs": []
    },
    {
      "cell_type": "code",
      "source": [
        "cat_columns"
      ],
      "metadata": {
        "id": "lMBYzbpzKsFh",
        "colab": {
          "base_uri": "https://localhost:8080/",
          "height": 0
        },
        "outputId": "cc3849d5-eaf4-4af0-85eb-0feb71177bbe"
      },
      "execution_count": 193,
      "outputs": [
        {
          "output_type": "execute_result",
          "data": {
            "text/plain": [
              "['education',\n",
              " 'employment status',\n",
              " 'Gender',\n",
              " 'Family status',\n",
              " 'ChildCount',\n",
              " 'SNILS',\n",
              " 'Merch_code',\n",
              " 'Goods_category']"
            ]
          },
          "metadata": {},
          "execution_count": 193
        }
      ]
    },
    {
      "cell_type": "markdown",
      "source": [
        "## One-hot encoding"
      ],
      "metadata": {
        "id": "g4tW6_l_K5wg"
      }
    },
    {
      "cell_type": "markdown",
      "source": [
        "Проведем One-hot encoding категориальных признаков"
      ],
      "metadata": {
        "id": "LK_o-CqyH3-D"
      }
    },
    {
      "cell_type": "code",
      "source": [
        "OHE = pd.get_dummies(df[cat_columns])\n",
        "df_OHE = df.drop(cat_columns,axis = 1)\n",
        "\n",
        "# удаляем столбец Position\n",
        "df_OHE = df_OHE.drop('Position',axis = 1)\n",
        "\n",
        "df_OHE = df_OHE.join(OHE)\n",
        "df_OHE"
      ],
      "metadata": {
        "id": "d3MHYCqEJsjq",
        "colab": {
          "base_uri": "https://localhost:8080/",
          "height": 443
        },
        "outputId": "cbf2880a-7929-4632-a214-7e280c9f3834"
      },
      "execution_count": 194,
      "outputs": [
        {
          "output_type": "execute_result",
          "data": {
            "text/plain": [
              "      BankA_decision  BankB_decision  BankC_decision  BankD_decision  \\\n",
              "0                  1               1               1               1   \n",
              "1                  1               0               1               0   \n",
              "2                  0               0               1               1   \n",
              "3                  1               0               1               1   \n",
              "4                  1               0               1               1   \n",
              "...              ...             ...             ...             ...   \n",
              "6598               1               1               1               1   \n",
              "6599               0               1               1               1   \n",
              "6600               1               1               1               1   \n",
              "6601               1               1               1               1   \n",
              "6602               0               1               1               1   \n",
              "\n",
              "      BankE_decision   Age  Seniority  DebtRatio  education_MBA  \\\n",
              "0                  0  35.0       10.0   0.084568              0   \n",
              "1                  1  25.0        1.0   0.039286              0   \n",
              "2                  1  51.0       18.0   0.026961              0   \n",
              "3                  1  51.0       18.0   0.021895              0   \n",
              "4                  1  51.0       18.0   0.023529              0   \n",
              "...              ...   ...        ...        ...            ...   \n",
              "6598               1  48.0       13.0   0.010606              0   \n",
              "6599               0  38.0        3.0   0.024510              0   \n",
              "6600               1  35.0        2.0   0.066667              0   \n",
              "6601               1  20.0        1.0   0.027381              0   \n",
              "6602               1  20.0        1.0   0.058333              0   \n",
              "\n",
              "      education_Бакалавр  ...  Merch_code_8.0  Merch_code_80.0  \\\n",
              "0                      0  ...               0                0   \n",
              "1                      0  ...               0                0   \n",
              "2                      0  ...               0                0   \n",
              "3                      0  ...               0                0   \n",
              "4                      0  ...               0                0   \n",
              "...                  ...  ...             ...              ...   \n",
              "6598                   0  ...               0                0   \n",
              "6599                   0  ...               0                0   \n",
              "6600                   0  ...               0                0   \n",
              "6601                   0  ...               0                0   \n",
              "6602                   0  ...               0                0   \n",
              "\n",
              "      Merch_code_9.0  Goods_category_Education  Goods_category_Fitness  \\\n",
              "0                  0                         0                       0   \n",
              "1                  0                         0                       1   \n",
              "2                  0                         0                       0   \n",
              "3                  0                         1                       0   \n",
              "4                  0                         0                       0   \n",
              "...              ...                       ...                     ...   \n",
              "6598               0                         1                       0   \n",
              "6599               0                         0                       0   \n",
              "6600               0                         0                       1   \n",
              "6601               0                         0                       0   \n",
              "6602               0                         0                       0   \n",
              "\n",
              "      Goods_category_Furniture  Goods_category_Medical_services  \\\n",
              "0                            1                                0   \n",
              "1                            0                                0   \n",
              "2                            0                                1   \n",
              "3                            0                                0   \n",
              "4                            1                                0   \n",
              "...                        ...                              ...   \n",
              "6598                         0                                0   \n",
              "6599                         0                                0   \n",
              "6600                         0                                0   \n",
              "6601                         1                                0   \n",
              "6602                         0                                0   \n",
              "\n",
              "      Goods_category_Mobile_devices  Goods_category_Other  \\\n",
              "0                                 0                     0   \n",
              "1                                 0                     0   \n",
              "2                                 0                     0   \n",
              "3                                 0                     0   \n",
              "4                                 0                     0   \n",
              "...                             ...                   ...   \n",
              "6598                              0                     0   \n",
              "6599                              0                     0   \n",
              "6600                              0                     0   \n",
              "6601                              0                     0   \n",
              "6602                              1                     0   \n",
              "\n",
              "      Goods_category_Travel  \n",
              "0                         0  \n",
              "1                         0  \n",
              "2                         0  \n",
              "3                         0  \n",
              "4                         0  \n",
              "...                     ...  \n",
              "6598                      0  \n",
              "6599                      1  \n",
              "6600                      0  \n",
              "6601                      0  \n",
              "6602                      0  \n",
              "\n",
              "[6448 rows x 117 columns]"
            ],
            "text/html": [
              "\n",
              "  <div id=\"df-60497e3f-cad2-47e2-9307-d9cbaaaf35a8\" class=\"colab-df-container\">\n",
              "    <div>\n",
              "<style scoped>\n",
              "    .dataframe tbody tr th:only-of-type {\n",
              "        vertical-align: middle;\n",
              "    }\n",
              "\n",
              "    .dataframe tbody tr th {\n",
              "        vertical-align: top;\n",
              "    }\n",
              "\n",
              "    .dataframe thead th {\n",
              "        text-align: right;\n",
              "    }\n",
              "</style>\n",
              "<table border=\"1\" class=\"dataframe\">\n",
              "  <thead>\n",
              "    <tr style=\"text-align: right;\">\n",
              "      <th></th>\n",
              "      <th>BankA_decision</th>\n",
              "      <th>BankB_decision</th>\n",
              "      <th>BankC_decision</th>\n",
              "      <th>BankD_decision</th>\n",
              "      <th>BankE_decision</th>\n",
              "      <th>Age</th>\n",
              "      <th>Seniority</th>\n",
              "      <th>DebtRatio</th>\n",
              "      <th>education_MBA</th>\n",
              "      <th>education_Бакалавр</th>\n",
              "      <th>...</th>\n",
              "      <th>Merch_code_8.0</th>\n",
              "      <th>Merch_code_80.0</th>\n",
              "      <th>Merch_code_9.0</th>\n",
              "      <th>Goods_category_Education</th>\n",
              "      <th>Goods_category_Fitness</th>\n",
              "      <th>Goods_category_Furniture</th>\n",
              "      <th>Goods_category_Medical_services</th>\n",
              "      <th>Goods_category_Mobile_devices</th>\n",
              "      <th>Goods_category_Other</th>\n",
              "      <th>Goods_category_Travel</th>\n",
              "    </tr>\n",
              "  </thead>\n",
              "  <tbody>\n",
              "    <tr>\n",
              "      <th>0</th>\n",
              "      <td>1</td>\n",
              "      <td>1</td>\n",
              "      <td>1</td>\n",
              "      <td>1</td>\n",
              "      <td>0</td>\n",
              "      <td>35.0</td>\n",
              "      <td>10.0</td>\n",
              "      <td>0.084568</td>\n",
              "      <td>0</td>\n",
              "      <td>0</td>\n",
              "      <td>...</td>\n",
              "      <td>0</td>\n",
              "      <td>0</td>\n",
              "      <td>0</td>\n",
              "      <td>0</td>\n",
              "      <td>0</td>\n",
              "      <td>1</td>\n",
              "      <td>0</td>\n",
              "      <td>0</td>\n",
              "      <td>0</td>\n",
              "      <td>0</td>\n",
              "    </tr>\n",
              "    <tr>\n",
              "      <th>1</th>\n",
              "      <td>1</td>\n",
              "      <td>0</td>\n",
              "      <td>1</td>\n",
              "      <td>0</td>\n",
              "      <td>1</td>\n",
              "      <td>25.0</td>\n",
              "      <td>1.0</td>\n",
              "      <td>0.039286</td>\n",
              "      <td>0</td>\n",
              "      <td>0</td>\n",
              "      <td>...</td>\n",
              "      <td>0</td>\n",
              "      <td>0</td>\n",
              "      <td>0</td>\n",
              "      <td>0</td>\n",
              "      <td>1</td>\n",
              "      <td>0</td>\n",
              "      <td>0</td>\n",
              "      <td>0</td>\n",
              "      <td>0</td>\n",
              "      <td>0</td>\n",
              "    </tr>\n",
              "    <tr>\n",
              "      <th>2</th>\n",
              "      <td>0</td>\n",
              "      <td>0</td>\n",
              "      <td>1</td>\n",
              "      <td>1</td>\n",
              "      <td>1</td>\n",
              "      <td>51.0</td>\n",
              "      <td>18.0</td>\n",
              "      <td>0.026961</td>\n",
              "      <td>0</td>\n",
              "      <td>0</td>\n",
              "      <td>...</td>\n",
              "      <td>0</td>\n",
              "      <td>0</td>\n",
              "      <td>0</td>\n",
              "      <td>0</td>\n",
              "      <td>0</td>\n",
              "      <td>0</td>\n",
              "      <td>1</td>\n",
              "      <td>0</td>\n",
              "      <td>0</td>\n",
              "      <td>0</td>\n",
              "    </tr>\n",
              "    <tr>\n",
              "      <th>3</th>\n",
              "      <td>1</td>\n",
              "      <td>0</td>\n",
              "      <td>1</td>\n",
              "      <td>1</td>\n",
              "      <td>1</td>\n",
              "      <td>51.0</td>\n",
              "      <td>18.0</td>\n",
              "      <td>0.021895</td>\n",
              "      <td>0</td>\n",
              "      <td>0</td>\n",
              "      <td>...</td>\n",
              "      <td>0</td>\n",
              "      <td>0</td>\n",
              "      <td>0</td>\n",
              "      <td>1</td>\n",
              "      <td>0</td>\n",
              "      <td>0</td>\n",
              "      <td>0</td>\n",
              "      <td>0</td>\n",
              "      <td>0</td>\n",
              "      <td>0</td>\n",
              "    </tr>\n",
              "    <tr>\n",
              "      <th>4</th>\n",
              "      <td>1</td>\n",
              "      <td>0</td>\n",
              "      <td>1</td>\n",
              "      <td>1</td>\n",
              "      <td>1</td>\n",
              "      <td>51.0</td>\n",
              "      <td>18.0</td>\n",
              "      <td>0.023529</td>\n",
              "      <td>0</td>\n",
              "      <td>0</td>\n",
              "      <td>...</td>\n",
              "      <td>0</td>\n",
              "      <td>0</td>\n",
              "      <td>0</td>\n",
              "      <td>0</td>\n",
              "      <td>0</td>\n",
              "      <td>1</td>\n",
              "      <td>0</td>\n",
              "      <td>0</td>\n",
              "      <td>0</td>\n",
              "      <td>0</td>\n",
              "    </tr>\n",
              "    <tr>\n",
              "      <th>...</th>\n",
              "      <td>...</td>\n",
              "      <td>...</td>\n",
              "      <td>...</td>\n",
              "      <td>...</td>\n",
              "      <td>...</td>\n",
              "      <td>...</td>\n",
              "      <td>...</td>\n",
              "      <td>...</td>\n",
              "      <td>...</td>\n",
              "      <td>...</td>\n",
              "      <td>...</td>\n",
              "      <td>...</td>\n",
              "      <td>...</td>\n",
              "      <td>...</td>\n",
              "      <td>...</td>\n",
              "      <td>...</td>\n",
              "      <td>...</td>\n",
              "      <td>...</td>\n",
              "      <td>...</td>\n",
              "      <td>...</td>\n",
              "      <td>...</td>\n",
              "    </tr>\n",
              "    <tr>\n",
              "      <th>6598</th>\n",
              "      <td>1</td>\n",
              "      <td>1</td>\n",
              "      <td>1</td>\n",
              "      <td>1</td>\n",
              "      <td>1</td>\n",
              "      <td>48.0</td>\n",
              "      <td>13.0</td>\n",
              "      <td>0.010606</td>\n",
              "      <td>0</td>\n",
              "      <td>0</td>\n",
              "      <td>...</td>\n",
              "      <td>0</td>\n",
              "      <td>0</td>\n",
              "      <td>0</td>\n",
              "      <td>1</td>\n",
              "      <td>0</td>\n",
              "      <td>0</td>\n",
              "      <td>0</td>\n",
              "      <td>0</td>\n",
              "      <td>0</td>\n",
              "      <td>0</td>\n",
              "    </tr>\n",
              "    <tr>\n",
              "      <th>6599</th>\n",
              "      <td>0</td>\n",
              "      <td>1</td>\n",
              "      <td>1</td>\n",
              "      <td>1</td>\n",
              "      <td>0</td>\n",
              "      <td>38.0</td>\n",
              "      <td>3.0</td>\n",
              "      <td>0.024510</td>\n",
              "      <td>0</td>\n",
              "      <td>0</td>\n",
              "      <td>...</td>\n",
              "      <td>0</td>\n",
              "      <td>0</td>\n",
              "      <td>0</td>\n",
              "      <td>0</td>\n",
              "      <td>0</td>\n",
              "      <td>0</td>\n",
              "      <td>0</td>\n",
              "      <td>0</td>\n",
              "      <td>0</td>\n",
              "      <td>1</td>\n",
              "    </tr>\n",
              "    <tr>\n",
              "      <th>6600</th>\n",
              "      <td>1</td>\n",
              "      <td>1</td>\n",
              "      <td>1</td>\n",
              "      <td>1</td>\n",
              "      <td>1</td>\n",
              "      <td>35.0</td>\n",
              "      <td>2.0</td>\n",
              "      <td>0.066667</td>\n",
              "      <td>0</td>\n",
              "      <td>0</td>\n",
              "      <td>...</td>\n",
              "      <td>0</td>\n",
              "      <td>0</td>\n",
              "      <td>0</td>\n",
              "      <td>0</td>\n",
              "      <td>1</td>\n",
              "      <td>0</td>\n",
              "      <td>0</td>\n",
              "      <td>0</td>\n",
              "      <td>0</td>\n",
              "      <td>0</td>\n",
              "    </tr>\n",
              "    <tr>\n",
              "      <th>6601</th>\n",
              "      <td>1</td>\n",
              "      <td>1</td>\n",
              "      <td>1</td>\n",
              "      <td>1</td>\n",
              "      <td>1</td>\n",
              "      <td>20.0</td>\n",
              "      <td>1.0</td>\n",
              "      <td>0.027381</td>\n",
              "      <td>0</td>\n",
              "      <td>0</td>\n",
              "      <td>...</td>\n",
              "      <td>0</td>\n",
              "      <td>0</td>\n",
              "      <td>0</td>\n",
              "      <td>0</td>\n",
              "      <td>0</td>\n",
              "      <td>1</td>\n",
              "      <td>0</td>\n",
              "      <td>0</td>\n",
              "      <td>0</td>\n",
              "      <td>0</td>\n",
              "    </tr>\n",
              "    <tr>\n",
              "      <th>6602</th>\n",
              "      <td>0</td>\n",
              "      <td>1</td>\n",
              "      <td>1</td>\n",
              "      <td>1</td>\n",
              "      <td>1</td>\n",
              "      <td>20.0</td>\n",
              "      <td>1.0</td>\n",
              "      <td>0.058333</td>\n",
              "      <td>0</td>\n",
              "      <td>0</td>\n",
              "      <td>...</td>\n",
              "      <td>0</td>\n",
              "      <td>0</td>\n",
              "      <td>0</td>\n",
              "      <td>0</td>\n",
              "      <td>0</td>\n",
              "      <td>0</td>\n",
              "      <td>0</td>\n",
              "      <td>1</td>\n",
              "      <td>0</td>\n",
              "      <td>0</td>\n",
              "    </tr>\n",
              "  </tbody>\n",
              "</table>\n",
              "<p>6448 rows × 117 columns</p>\n",
              "</div>\n",
              "    <div class=\"colab-df-buttons\">\n",
              "\n",
              "  <div class=\"colab-df-container\">\n",
              "    <button class=\"colab-df-convert\" onclick=\"convertToInteractive('df-60497e3f-cad2-47e2-9307-d9cbaaaf35a8')\"\n",
              "            title=\"Convert this dataframe to an interactive table.\"\n",
              "            style=\"display:none;\">\n",
              "\n",
              "  <svg xmlns=\"http://www.w3.org/2000/svg\" height=\"24px\" viewBox=\"0 -960 960 960\">\n",
              "    <path d=\"M120-120v-720h720v720H120Zm60-500h600v-160H180v160Zm220 220h160v-160H400v160Zm0 220h160v-160H400v160ZM180-400h160v-160H180v160Zm440 0h160v-160H620v160ZM180-180h160v-160H180v160Zm440 0h160v-160H620v160Z\"/>\n",
              "  </svg>\n",
              "    </button>\n",
              "\n",
              "  <style>\n",
              "    .colab-df-container {\n",
              "      display:flex;\n",
              "      gap: 12px;\n",
              "    }\n",
              "\n",
              "    .colab-df-convert {\n",
              "      background-color: #E8F0FE;\n",
              "      border: none;\n",
              "      border-radius: 50%;\n",
              "      cursor: pointer;\n",
              "      display: none;\n",
              "      fill: #1967D2;\n",
              "      height: 32px;\n",
              "      padding: 0 0 0 0;\n",
              "      width: 32px;\n",
              "    }\n",
              "\n",
              "    .colab-df-convert:hover {\n",
              "      background-color: #E2EBFA;\n",
              "      box-shadow: 0px 1px 2px rgba(60, 64, 67, 0.3), 0px 1px 3px 1px rgba(60, 64, 67, 0.15);\n",
              "      fill: #174EA6;\n",
              "    }\n",
              "\n",
              "    .colab-df-buttons div {\n",
              "      margin-bottom: 4px;\n",
              "    }\n",
              "\n",
              "    [theme=dark] .colab-df-convert {\n",
              "      background-color: #3B4455;\n",
              "      fill: #D2E3FC;\n",
              "    }\n",
              "\n",
              "    [theme=dark] .colab-df-convert:hover {\n",
              "      background-color: #434B5C;\n",
              "      box-shadow: 0px 1px 3px 1px rgba(0, 0, 0, 0.15);\n",
              "      filter: drop-shadow(0px 1px 2px rgba(0, 0, 0, 0.3));\n",
              "      fill: #FFFFFF;\n",
              "    }\n",
              "  </style>\n",
              "\n",
              "    <script>\n",
              "      const buttonEl =\n",
              "        document.querySelector('#df-60497e3f-cad2-47e2-9307-d9cbaaaf35a8 button.colab-df-convert');\n",
              "      buttonEl.style.display =\n",
              "        google.colab.kernel.accessAllowed ? 'block' : 'none';\n",
              "\n",
              "      async function convertToInteractive(key) {\n",
              "        const element = document.querySelector('#df-60497e3f-cad2-47e2-9307-d9cbaaaf35a8');\n",
              "        const dataTable =\n",
              "          await google.colab.kernel.invokeFunction('convertToInteractive',\n",
              "                                                    [key], {});\n",
              "        if (!dataTable) return;\n",
              "\n",
              "        const docLinkHtml = 'Like what you see? Visit the ' +\n",
              "          '<a target=\"_blank\" href=https://colab.research.google.com/notebooks/data_table.ipynb>data table notebook</a>'\n",
              "          + ' to learn more about interactive tables.';\n",
              "        element.innerHTML = '';\n",
              "        dataTable['output_type'] = 'display_data';\n",
              "        await google.colab.output.renderOutput(dataTable, element);\n",
              "        const docLink = document.createElement('div');\n",
              "        docLink.innerHTML = docLinkHtml;\n",
              "        element.appendChild(docLink);\n",
              "      }\n",
              "    </script>\n",
              "  </div>\n",
              "\n",
              "\n",
              "<div id=\"df-7fec63ef-30d1-43e0-b0de-e3ce582eff15\">\n",
              "  <button class=\"colab-df-quickchart\" onclick=\"quickchart('df-7fec63ef-30d1-43e0-b0de-e3ce582eff15')\"\n",
              "            title=\"Suggest charts\"\n",
              "            style=\"display:none;\">\n",
              "\n",
              "<svg xmlns=\"http://www.w3.org/2000/svg\" height=\"24px\"viewBox=\"0 0 24 24\"\n",
              "     width=\"24px\">\n",
              "    <g>\n",
              "        <path d=\"M19 3H5c-1.1 0-2 .9-2 2v14c0 1.1.9 2 2 2h14c1.1 0 2-.9 2-2V5c0-1.1-.9-2-2-2zM9 17H7v-7h2v7zm4 0h-2V7h2v10zm4 0h-2v-4h2v4z\"/>\n",
              "    </g>\n",
              "</svg>\n",
              "  </button>\n",
              "\n",
              "<style>\n",
              "  .colab-df-quickchart {\n",
              "      --bg-color: #E8F0FE;\n",
              "      --fill-color: #1967D2;\n",
              "      --hover-bg-color: #E2EBFA;\n",
              "      --hover-fill-color: #174EA6;\n",
              "      --disabled-fill-color: #AAA;\n",
              "      --disabled-bg-color: #DDD;\n",
              "  }\n",
              "\n",
              "  [theme=dark] .colab-df-quickchart {\n",
              "      --bg-color: #3B4455;\n",
              "      --fill-color: #D2E3FC;\n",
              "      --hover-bg-color: #434B5C;\n",
              "      --hover-fill-color: #FFFFFF;\n",
              "      --disabled-bg-color: #3B4455;\n",
              "      --disabled-fill-color: #666;\n",
              "  }\n",
              "\n",
              "  .colab-df-quickchart {\n",
              "    background-color: var(--bg-color);\n",
              "    border: none;\n",
              "    border-radius: 50%;\n",
              "    cursor: pointer;\n",
              "    display: none;\n",
              "    fill: var(--fill-color);\n",
              "    height: 32px;\n",
              "    padding: 0;\n",
              "    width: 32px;\n",
              "  }\n",
              "\n",
              "  .colab-df-quickchart:hover {\n",
              "    background-color: var(--hover-bg-color);\n",
              "    box-shadow: 0 1px 2px rgba(60, 64, 67, 0.3), 0 1px 3px 1px rgba(60, 64, 67, 0.15);\n",
              "    fill: var(--button-hover-fill-color);\n",
              "  }\n",
              "\n",
              "  .colab-df-quickchart-complete:disabled,\n",
              "  .colab-df-quickchart-complete:disabled:hover {\n",
              "    background-color: var(--disabled-bg-color);\n",
              "    fill: var(--disabled-fill-color);\n",
              "    box-shadow: none;\n",
              "  }\n",
              "\n",
              "  .colab-df-spinner {\n",
              "    border: 2px solid var(--fill-color);\n",
              "    border-color: transparent;\n",
              "    border-bottom-color: var(--fill-color);\n",
              "    animation:\n",
              "      spin 1s steps(1) infinite;\n",
              "  }\n",
              "\n",
              "  @keyframes spin {\n",
              "    0% {\n",
              "      border-color: transparent;\n",
              "      border-bottom-color: var(--fill-color);\n",
              "      border-left-color: var(--fill-color);\n",
              "    }\n",
              "    20% {\n",
              "      border-color: transparent;\n",
              "      border-left-color: var(--fill-color);\n",
              "      border-top-color: var(--fill-color);\n",
              "    }\n",
              "    30% {\n",
              "      border-color: transparent;\n",
              "      border-left-color: var(--fill-color);\n",
              "      border-top-color: var(--fill-color);\n",
              "      border-right-color: var(--fill-color);\n",
              "    }\n",
              "    40% {\n",
              "      border-color: transparent;\n",
              "      border-right-color: var(--fill-color);\n",
              "      border-top-color: var(--fill-color);\n",
              "    }\n",
              "    60% {\n",
              "      border-color: transparent;\n",
              "      border-right-color: var(--fill-color);\n",
              "    }\n",
              "    80% {\n",
              "      border-color: transparent;\n",
              "      border-right-color: var(--fill-color);\n",
              "      border-bottom-color: var(--fill-color);\n",
              "    }\n",
              "    90% {\n",
              "      border-color: transparent;\n",
              "      border-bottom-color: var(--fill-color);\n",
              "    }\n",
              "  }\n",
              "</style>\n",
              "\n",
              "  <script>\n",
              "    async function quickchart(key) {\n",
              "      const quickchartButtonEl =\n",
              "        document.querySelector('#' + key + ' button');\n",
              "      quickchartButtonEl.disabled = true;  // To prevent multiple clicks.\n",
              "      quickchartButtonEl.classList.add('colab-df-spinner');\n",
              "      try {\n",
              "        const charts = await google.colab.kernel.invokeFunction(\n",
              "            'suggestCharts', [key], {});\n",
              "      } catch (error) {\n",
              "        console.error('Error during call to suggestCharts:', error);\n",
              "      }\n",
              "      quickchartButtonEl.classList.remove('colab-df-spinner');\n",
              "      quickchartButtonEl.classList.add('colab-df-quickchart-complete');\n",
              "    }\n",
              "    (() => {\n",
              "      let quickchartButtonEl =\n",
              "        document.querySelector('#df-7fec63ef-30d1-43e0-b0de-e3ce582eff15 button');\n",
              "      quickchartButtonEl.style.display =\n",
              "        google.colab.kernel.accessAllowed ? 'block' : 'none';\n",
              "    })();\n",
              "  </script>\n",
              "</div>\n",
              "    </div>\n",
              "  </div>\n"
            ]
          },
          "metadata": {},
          "execution_count": 194
        }
      ]
    },
    {
      "cell_type": "markdown",
      "source": [
        "## Формирование датасетов для каждого из банков"
      ],
      "metadata": {
        "id": "4hP8nzowK_5N"
      }
    },
    {
      "cell_type": "markdown",
      "source": [
        "Для начала разделим датасет на 5 в соответствии с Банками и удалим строки, в которых соответствующий банк вернул ошибку на запрос"
      ],
      "metadata": {
        "id": "u_RNfS2CLQmU"
      }
    },
    {
      "cell_type": "code",
      "source": [
        "# Банк A\n",
        "df_OHE_A = df_OHE.drop([x for x in result_columns if x not in 'BankA_decision'], axis = 1)\n",
        "df_OHE_A = df_OHE_A[df_OHE_A['BankA_decision'] != 2]\n",
        "X_A = df_OHE_A.drop('BankA_decision',axis = 1)\n",
        "Y_A = df_OHE_A['BankA_decision']\n",
        "\n",
        "# Банк B\n",
        "df_OHE_B = df_OHE.drop([x for x in result_columns if x not in 'BankB_decision'], axis = 1)\n",
        "df_OHE_B = df_OHE_B[df_OHE_B['BankB_decision'] != 2]\n",
        "X_B = df_OHE_B.drop('BankB_decision',axis = 1)\n",
        "Y_B = df_OHE_B['BankB_decision']\n",
        "\n",
        "# Банк C\n",
        "df_OHE_C = df_OHE.drop([x for x in result_columns if x not in 'BankC_decision'], axis = 1)\n",
        "df_OHE_C = df_OHE_C[df_OHE_C['BankC_decision'] != 2]\n",
        "X_C = df_OHE_C.drop('BankC_decision',axis = 1)\n",
        "Y_C = df_OHE_C['BankC_decision']\n",
        "\n",
        "# Банк D\n",
        "df_OHE_D = df_OHE.drop([x for x in result_columns if x not in 'BankD_decision'], axis = 1)\n",
        "df_OHE_D = df_OHE_D[df_OHE_D['BankD_decision'] != 2]\n",
        "X_D = df_OHE_D.drop('BankD_decision',axis = 1)\n",
        "Y_D = df_OHE_D['BankD_decision']\n",
        "\n",
        "# Банк E\n",
        "df_OHE_E = df_OHE.drop([x for x in result_columns if x not in 'BankE_decision'], axis = 1)\n",
        "df_OHE_E = df_OHE_E[df_OHE_E['BankE_decision'] != 2]\n",
        "X_E = df_OHE_E.drop('BankE_decision',axis = 1)\n",
        "Y_E = df_OHE_E['BankE_decision']"
      ],
      "metadata": {
        "id": "zhH-WY89LT6-"
      },
      "execution_count": 195,
      "outputs": []
    },
    {
      "cell_type": "markdown",
      "source": [
        "# Определение необходимой метрики"
      ],
      "metadata": {
        "id": "N8dPs-b_DIv2"
      }
    },
    {
      "cell_type": "markdown",
      "source": [
        "Определим положительный исход - как одобрение кредита Клиенту, отрицательный - как отказ.\n",
        "\n",
        "В таком случае матрица ошибок будет выглядеть следующим образом:"
      ],
      "metadata": {
        "id": "UhQ0x5xdDK-e"
      }
    },
    {
      "cell_type": "markdown",
      "source": [
        "![image.png](data:image/png;base64,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)"
      ],
      "metadata": {
        "id": "LGhgRYF1EqNB"
      }
    },
    {
      "cell_type": "markdown",
      "source": [
        "Для бизнеса Mandarin наиболее \"болезнной\" является ошибка 2 рода - False Positive - когда Mandarin отказывает клиенту, при этом Банк мог бы одобрить данный кредит, так как в этом случае теряется потенцильно полученная комиссия.\n",
        "\n",
        "Также важно не совершать ошибку 1 рода - то есть не предсказывать положительное решение тем клиентам, которые получат отказ Банка, т.к. это вызовет лишние затраты ресурсов на отправку решения в Банк и получения ответа, а также учеличит TTN\n",
        "\n",
        "Видится, что ошибки 2-го рода более \"болезненные\" для бизнеса, так как приводят к неполучению потенциальной прибыли, но и 1-го рода важны.\n",
        "\n",
        "С учетом этого предлагается выбрать метрику, которая бы учитывала меру точности и полноты с приоритетом меры полноты - это F-score (beta = 2)"
      ],
      "metadata": {
        "id": "xq1OD3k9D9n2"
      }
    },
    {
      "cell_type": "markdown",
      "source": [
        "# Построение моделей"
      ],
      "metadata": {
        "id": "WTH1ZoM7QG8K"
      }
    },
    {
      "cell_type": "markdown",
      "source": [
        "Попробуем несколько моделей"
      ],
      "metadata": {
        "id": "CKyWjM3jd88_"
      }
    },
    {
      "cell_type": "markdown",
      "source": [
        "## Случайный лес"
      ],
      "metadata": {
        "id": "hx0jP1SUQI2f"
      }
    },
    {
      "cell_type": "markdown",
      "source": [
        "Построим модели для каждого банка на основании RandomForestClassifier"
      ],
      "metadata": {
        "id": "4Y07VA9oePVM"
      }
    },
    {
      "cell_type": "code",
      "source": [
        "estimators = 50\n",
        "depth = 100\n",
        "\n",
        "model_random_forest_A = RandomForestClassifier(n_estimators = estimators, max_depth = depth, random_state = 1)\n",
        "X_train, X_test, Y_train, Y_test = train_test_split(X_A, Y_A, test_size = 0.3, random_state = 42)\n",
        "model_random_forest_A.fit(X_train, Y_train)\n",
        "predictions = model_random_forest_A.predict(X_test)\n",
        "print('BANK A')\n",
        "print(precision_recall_fscore_support(Y_test, predictions, average='binary', beta = 2))\n",
        "print(confusion_matrix(Y_test, predictions))\n",
        "filename = 'model_A.pkl'\n",
        "pickle.dump(model_random_forest_A, open(filename, 'wb'))\n",
        "print(' ')\n",
        "\n",
        "model_random_forest_B = RandomForestClassifier(n_estimators = estimators, max_depth = depth, random_state = 1)\n",
        "X_train, X_test, Y_train, Y_test = train_test_split(X_B, Y_B, test_size = 0.3, random_state = 42)\n",
        "model_random_forest_B.fit(X_train, Y_train)\n",
        "predictions = model_random_forest_B.predict(X_test)\n",
        "print('BANK B')\n",
        "print(precision_recall_fscore_support(Y_test, predictions, average='binary', beta = 2))\n",
        "print(confusion_matrix(Y_test, predictions))\n",
        "filename = 'model_B.pkl'\n",
        "pickle.dump(model_random_forest_A, open(filename, 'wb'))\n",
        "print(' ')\n",
        "\n",
        "model_random_forest_C = RandomForestClassifier(n_estimators = estimators, max_depth = depth, random_state = 1)\n",
        "X_train, X_test, Y_train, Y_test = train_test_split(X_C, Y_C, test_size = 0.3, random_state = 42)\n",
        "model_random_forest_C.fit(X_train, Y_train)\n",
        "predictions = model_random_forest_C.predict(X_test)\n",
        "print('BANK C')\n",
        "print(precision_recall_fscore_support(Y_test, predictions, average='binary', beta = 2))\n",
        "print(confusion_matrix(Y_test, predictions))\n",
        "filename = 'model_C.pkl'\n",
        "pickle.dump(model_random_forest_A, open(filename, 'wb'))\n",
        "print(' ')\n",
        "\n",
        "model_random_forest_D = RandomForestClassifier(n_estimators = estimators, max_depth = depth, random_state = 1)\n",
        "X_train, X_test, Y_train, Y_test = train_test_split(X_D, Y_D, test_size = 0.3, random_state = 42)\n",
        "model_random_forest_D.fit(X_train, Y_train)\n",
        "predictions = model_random_forest_D.predict(X_test)\n",
        "print('BANK D')\n",
        "print(precision_recall_fscore_support(Y_test, predictions, average='binary', beta = 2))\n",
        "print(confusion_matrix(Y_test, predictions))\n",
        "filename = 'model_D.pkl'\n",
        "pickle.dump(model_random_forest_A, open(filename, 'wb'))\n",
        "print(' ')\n",
        "\n",
        "model_random_forest_E = RandomForestClassifier(n_estimators = estimators, max_depth = depth, random_state = 1)\n",
        "X_train, X_test, Y_train, Y_test = train_test_split(X_E, Y_E, test_size = 0.3, random_state = 42)\n",
        "model_random_forest_E.fit(X_train, Y_train)\n",
        "predictions = model_random_forest_E.predict(X_test)\n",
        "print('BANK E')\n",
        "print(precision_recall_fscore_support(Y_test, predictions, average='binary', beta = 2))\n",
        "print(confusion_matrix(Y_test, predictions))\n",
        "filename = 'model_E.pkl'\n",
        "pickle.dump(model_random_forest_A, open(filename, 'wb'))\n",
        "print(' ')"
      ],
      "metadata": {
        "id": "yd_1vHA-WZ-K",
        "colab": {
          "base_uri": "https://localhost:8080/",
          "height": 0
        },
        "outputId": "68de1e06-a1b1-4328-e2e1-a8d7d9a87360"
      },
      "execution_count": 196,
      "outputs": [
        {
          "output_type": "stream",
          "name": "stdout",
          "text": [
            "BANK A\n",
            "(0.7676600441501104, 0.9469026548672567, 0.9046566077003122, None)\n",
            "[[  24  421]\n",
            " [  78 1391]]\n",
            " \n",
            "BANK B\n",
            "(0.7606177606177607, 0.9484181568088033, 0.9037881766941932, None)\n",
            "[[  24  434]\n",
            " [  75 1379]]\n",
            " \n",
            "BANK C\n",
            "(0.7520615722924684, 0.95, 0.9024937326824118, None)\n",
            "[[  26  451]\n",
            " [  72 1368]]\n",
            " \n",
            "BANK D\n",
            "(0.7593201754385965, 0.9551724137931035, 0.9083158447009445, None)\n",
            "[[  23  439]\n",
            " [  65 1385]]\n",
            " \n",
            "BANK E\n",
            "(0.7495854063018242, 0.9449477351916377, 0.8981322029407869, None)\n",
            "[[  26  453]\n",
            " [  79 1356]]\n",
            " \n"
          ]
        }
      ]
    },
    {
      "cell_type": "markdown",
      "source": [
        "Обратим внимание, что целевая метрика F-score - порядка 90%\n",
        "\n",
        "Казалось бы, неплохой результат, особенно с учетом того, что recall = 95%\n",
        "\n",
        "Но матрица ошибок показывает, что модель в подавляющем большинстве случаев дает положительное решение и только в малом количестве случаев - отрицательное.\n",
        "При чем при изменении гиперпараметров в меньшую сторону приходим в конечном итоге к ситуации, когда модель просто перестает давать отрицательные ответы.\n",
        "\n",
        "Такое поведение модели вызвано ваходными данными - в них как мы выяснили ранее отсутствует корреляция между признаками и целевой переменной, что говорит о том, что данные скорее всего были сгенерированы случайным образом"
      ],
      "metadata": {
        "id": "Ni779lwHF5q2"
      }
    },
    {
      "cell_type": "markdown",
      "source": [
        "Попробуем другие модели, возможно получим другие результаты"
      ],
      "metadata": {
        "id": "95svk7pYgPVd"
      }
    },
    {
      "cell_type": "markdown",
      "source": [
        "## KNN"
      ],
      "metadata": {
        "id": "6sFqE4TvVdNa"
      }
    },
    {
      "cell_type": "markdown",
      "source": [
        "Попробуем применить метод KNN"
      ],
      "metadata": {
        "id": "rEt-D-auCoaV"
      }
    },
    {
      "cell_type": "code",
      "source": [
        "from sklearn.neighbors import KNeighborsClassifier\n",
        "\n",
        "neighbors = 11\n",
        "\n",
        "model_KNC_A = KNeighborsClassifier(n_neighbors = neighbors)\n",
        "X_train, X_test, Y_train, Y_test = train_test_split(X_A, Y_A, test_size = 0.3, random_state = 42)\n",
        "model_KNC_A.fit(X_train, Y_train)\n",
        "predictions = model_KNC_A.predict(X_test)\n",
        "print('BANK A')\n",
        "print(precision_recall_fscore_support(Y_test, predictions, average='binary', beta = 2))\n",
        "print(confusion_matrix(Y_test, predictions))\n",
        "filename = 'model_A.pkl'\n",
        "pickle.dump(model_KNC_A, open(filename, 'wb'))\n",
        "print(' ')\n",
        "\n",
        "\n",
        "model_KNC_B = KNeighborsClassifier(n_neighbors = neighbors)\n",
        "X_train, X_test, Y_train, Y_test = train_test_split(X_B, Y_B, test_size = 0.3, random_state = 42)\n",
        "model_KNC_B.fit(X_train, Y_train)\n",
        "predictions = model_KNC_B.predict(X_test)\n",
        "print('BANK B')\n",
        "print(precision_recall_fscore_support(Y_test, predictions, average='binary', beta = 2))\n",
        "print(confusion_matrix(Y_test, predictions))\n",
        "filename = 'model_B.pkl'\n",
        "pickle.dump(model_KNC_B, open(filename, 'wb'))\n",
        "print(' ')\n",
        "\n",
        "model_KNC_C = KNeighborsClassifier(n_neighbors = neighbors)\n",
        "X_train, X_test, Y_train, Y_test = train_test_split(X_C, Y_C, test_size = 0.3, random_state = 42)\n",
        "model_KNC_C.fit(X_train, Y_train)\n",
        "predictions = model_KNC_C.predict(X_test)\n",
        "print('BANK C')\n",
        "print(precision_recall_fscore_support(Y_test, predictions, average='binary', beta = 2))\n",
        "print(confusion_matrix(Y_test, predictions))\n",
        "filename = 'model_C.pkl'\n",
        "pickle.dump(model_KNC_C, open(filename, 'wb'))\n",
        "print(' ')\n",
        "\n",
        "model_KNC_D = KNeighborsClassifier(n_neighbors = neighbors)\n",
        "X_train, X_test, Y_train, Y_test = train_test_split(X_D, Y_D, test_size = 0.3, random_state = 42)\n",
        "model_KNC_D.fit(X_train, Y_train)\n",
        "predictions = model_KNC_D.predict(X_test)\n",
        "print('BANK D')\n",
        "print(precision_recall_fscore_support(Y_test, predictions, average='binary', beta = 2))\n",
        "print(confusion_matrix(Y_test, predictions))\n",
        "filename = 'model_D.pkl'\n",
        "pickle.dump(model_KNC_D, open(filename, 'wb'))\n",
        "print(' ')\n",
        "\n",
        "model_KNC_E = KNeighborsClassifier(n_neighbors = neighbors)\n",
        "X_train, X_test, Y_train, Y_test = train_test_split(X_E, Y_E, test_size = 0.3, random_state = 42)\n",
        "model_KNC_E.fit(X_train, Y_train)\n",
        "predictions = model_KNC_E.predict(X_test)\n",
        "print('BANK E')\n",
        "print(precision_recall_fscore_support(Y_test, predictions, average='binary', beta = 2))\n",
        "print(confusion_matrix(Y_test, predictions))\n",
        "filename = 'model_E.pkl'\n",
        "pickle.dump(model_KNC_E, open(filename, 'wb'))\n",
        "print(' ')\n"
      ],
      "metadata": {
        "id": "QMZ1GkmbVcfO",
        "colab": {
          "base_uri": "https://localhost:8080/",
          "height": 0
        },
        "outputId": "e764ef43-9d93-4243-b04c-80d4becffb2f"
      },
      "execution_count": 197,
      "outputs": [
        {
          "output_type": "stream",
          "name": "stdout",
          "text": [
            "BANK A\n",
            "(0.7674042093901781, 0.9680054458815521, 0.9199120196661923, None)\n",
            "[[  14  431]\n",
            " [  47 1422]]\n",
            " \n",
            "BANK B\n",
            "(0.759075907590759, 0.9491059147180193, 0.9038511920356301, None)\n",
            "[[  20  438]\n",
            " [  74 1380]]\n",
            " \n",
            "BANK C\n",
            "(0.7548913043478261, 0.9645833333333333, 0.9138157894736842, None)\n",
            "[[  26  451]\n",
            " [  51 1389]]\n",
            " \n",
            "BANK D\n",
            "(0.7613882863340564, 0.9682758620689655, 0.9183673469387754, None)\n",
            "[[  22  440]\n",
            " [  46 1404]]\n",
            " \n",
            "BANK E\n",
            "(0.7485127095727421, 0.9644599303135889, 0.9118460930293847, None)\n",
            "[[  14  465]\n",
            " [  51 1384]]\n",
            " \n"
          ]
        }
      ]
    },
    {
      "cell_type": "markdown",
      "source": [
        "Видим аналогичную ситуацию как и со случайным лесом.\n",
        "\n",
        "При увеличении гиперпараметра количества соседей опять же приходим к ситуации, когда модель перестает давать отрицательные ответы"
      ],
      "metadata": {
        "id": "Kk-XmTHFCsCX"
      }
    },
    {
      "cell_type": "markdown",
      "source": [
        "## Нейронная сеть"
      ],
      "metadata": {
        "id": "xp-rqwWQEjjY"
      }
    },
    {
      "cell_type": "markdown",
      "source": [
        "Попробуем применить нейронную сеть"
      ],
      "metadata": {
        "id": "PGRxGAtFC2Nr"
      }
    },
    {
      "cell_type": "code",
      "source": [
        "import tensorflow as tf\n",
        "from sklearn.preprocessing import StandardScaler\n",
        "\n",
        "X_train, X_test, Y_train, Y_test = train_test_split(X_A, Y_A, test_size = 0.3, random_state = 42)\n",
        "\n",
        "# Standardize the numerical features\n",
        "scaler = StandardScaler()\n",
        "X_train = scaler.fit_transform(X_train)\n",
        "y_train = Y_train.values.reshape(-1, 1)\n",
        "X_test = scaler.transform(X_test)\n",
        "\n",
        "y_train = y_train.astype('float32')"
      ],
      "metadata": {
        "id": "MOC1AhIbb0AW"
      },
      "execution_count": 198,
      "outputs": []
    },
    {
      "cell_type": "code",
      "source": [
        "# Define the model architecture\n",
        "model = tf.keras.Sequential([\n",
        "    tf.keras.layers.Dense(units = 20, activation = 'relu', input_shape=[X_train.shape[1]]),\n",
        "    tf.keras.layers.Dense(units = 20, activation = 'relu'),\n",
        "    tf.keras.layers.Dense(units=1, activation = 'sigmoid')\n",
        "])\n",
        "\n",
        "# Compile the model\n",
        "model.compile(optimizer='adam', loss='binary_crossentropy',\n",
        "              metrics=[keras.metrics.Precision(thresholds = 0.5), keras.metrics.Recall(thresholds = 0.5)])\n",
        "\n",
        "# Train the model\n",
        "history = model.fit(X_train, y_train, epochs = 20, batch_size = 64)\n",
        "\n",
        "\n",
        "predictions = model.predict(X_test)\n",
        "predictions = np.round(predictions).astype(int).flatten()\n",
        "\n",
        "print('BANK A')\n",
        "print(precision_recall_fscore_support(Y_test, predictions, average='binary', beta = 2))\n",
        "print(confusion_matrix(Y_test, predictions))\n",
        "filename = 'model_A_1.pkl'\n",
        "pickle.dump(model, open(filename, 'wb'))\n",
        "print(' ')"
      ],
      "metadata": {
        "id": "S5qGI2PHac-y",
        "colab": {
          "base_uri": "https://localhost:8080/",
          "height": 0
        },
        "outputId": "976edcb6-7518-41ea-d435-f11eb53f1384"
      },
      "execution_count": 199,
      "outputs": [
        {
          "output_type": "stream",
          "name": "stdout",
          "text": [
            "Epoch 1/20\n",
            "70/70 [==============================] - 1s 3ms/step - loss: 0.5907 - precision_4: 0.7580 - recall_4: 0.9556\n",
            "Epoch 2/20\n",
            "70/70 [==============================] - 0s 3ms/step - loss: 0.5606 - precision_4: 0.7577 - recall_4: 0.9947\n",
            "Epoch 3/20\n",
            "70/70 [==============================] - 0s 3ms/step - loss: 0.5504 - precision_4: 0.7567 - recall_4: 0.9994\n",
            "Epoch 4/20\n",
            "70/70 [==============================] - 0s 3ms/step - loss: 0.5449 - precision_4: 0.7563 - recall_4: 1.0000\n",
            "Epoch 5/20\n",
            "70/70 [==============================] - 0s 3ms/step - loss: 0.5394 - precision_4: 0.7563 - recall_4: 1.0000\n",
            "Epoch 6/20\n",
            "70/70 [==============================] - 0s 3ms/step - loss: 0.5358 - precision_4: 0.7565 - recall_4: 1.0000\n",
            "Epoch 7/20\n",
            "70/70 [==============================] - 0s 3ms/step - loss: 0.5318 - precision_4: 0.7566 - recall_4: 0.9994\n",
            "Epoch 8/20\n",
            "70/70 [==============================] - 0s 3ms/step - loss: 0.5285 - precision_4: 0.7571 - recall_4: 0.9994\n",
            "Epoch 9/20\n",
            "70/70 [==============================] - 0s 3ms/step - loss: 0.5262 - precision_4: 0.7573 - recall_4: 0.9997\n",
            "Epoch 10/20\n",
            "70/70 [==============================] - 0s 3ms/step - loss: 0.5232 - precision_4: 0.7584 - recall_4: 0.9991\n",
            "Epoch 11/20\n",
            "70/70 [==============================] - 0s 3ms/step - loss: 0.5207 - precision_4: 0.7599 - recall_4: 0.9982\n",
            "Epoch 12/20\n",
            "70/70 [==============================] - 0s 3ms/step - loss: 0.5178 - precision_4: 0.7588 - recall_4: 0.9994\n",
            "Epoch 13/20\n",
            "70/70 [==============================] - 0s 3ms/step - loss: 0.5165 - precision_4: 0.7617 - recall_4: 0.9967\n",
            "Epoch 14/20\n",
            "70/70 [==============================] - 0s 3ms/step - loss: 0.5127 - precision_4: 0.7613 - recall_4: 0.9973\n",
            "Epoch 15/20\n",
            "70/70 [==============================] - 0s 3ms/step - loss: 0.5110 - precision_4: 0.7622 - recall_4: 0.9982\n",
            "Epoch 16/20\n",
            "70/70 [==============================] - 0s 3ms/step - loss: 0.5077 - precision_4: 0.7628 - recall_4: 0.9979\n",
            "Epoch 17/20\n",
            "70/70 [==============================] - 0s 3ms/step - loss: 0.5048 - precision_4: 0.7642 - recall_4: 0.9944\n",
            "Epoch 18/20\n",
            "70/70 [==============================] - 0s 4ms/step - loss: 0.5024 - precision_4: 0.7646 - recall_4: 0.9973\n",
            "Epoch 19/20\n",
            "70/70 [==============================] - 0s 4ms/step - loss: 0.4999 - precision_4: 0.7656 - recall_4: 0.9953\n",
            "Epoch 20/20\n",
            "70/70 [==============================] - 0s 4ms/step - loss: 0.4973 - precision_4: 0.7683 - recall_4: 0.9935\n",
            "60/60 [==============================] - 0s 3ms/step\n",
            "BANK A\n",
            "(0.7669851380042463, 0.9836623553437712, 0.9310567010309279, None)\n",
            "[[   6  439]\n",
            " [  24 1445]]\n",
            " \n"
          ]
        }
      ]
    },
    {
      "cell_type": "markdown",
      "source": [
        "Опять же результат аналогичный"
      ],
      "metadata": {
        "id": "1OrO1ZaTDBO_"
      }
    },
    {
      "cell_type": "markdown",
      "source": [
        "# Выводы"
      ],
      "metadata": {
        "id": "1CY8k3Dcgmyp"
      }
    },
    {
      "cell_type": "markdown",
      "source": [
        "В силу того, что входящие данные лишены корреляции с целевыми переменными, качественной модели построить не получается\n",
        "Примененные модели по сути выдают baseline решение, всегда предсказывая положительное решение банком. В этом случае эффективность этого решения = степени одобрения соответствующим банком\n",
        "\n",
        "Для построения рабочего решения основаннного на модели, можем использовать любую модель\n",
        "\n",
        "Применим для этого, например KNN - сформируем модели для каждого банка и выгрузим их в файл .pkl для дальнейшего построения API"
      ],
      "metadata": {
        "id": "DJDMfhQngoCd"
      }
    },
    {
      "cell_type": "code",
      "source": [
        "from sklearn.neighbors import KNeighborsClassifier\n",
        "\n",
        "neighbors = 11\n",
        "\n",
        "model_KNC_A = KNeighborsClassifier(n_neighbors = neighbors)\n",
        "X_train, X_test, Y_train, Y_test = train_test_split(X_A, Y_A, test_size = 0.3, random_state = 42)\n",
        "model_KNC_A.fit(X_train, Y_train)\n",
        "predictions = model_KNC_A.predict(X_test)\n",
        "print('BANK A')\n",
        "print(precision_recall_fscore_support(Y_test, predictions, average='binary', beta = 2))\n",
        "print(confusion_matrix(Y_test, predictions))\n",
        "filename = 'model_A.pkl'\n",
        "pickle.dump(model_KNC_A, open(filename, 'wb'))\n",
        "print(' ')\n",
        "\n",
        "\n",
        "model_KNC_B = KNeighborsClassifier(n_neighbors = neighbors)\n",
        "X_train, X_test, Y_train, Y_test = train_test_split(X_B, Y_B, test_size = 0.3, random_state = 42)\n",
        "model_KNC_B.fit(X_train, Y_train)\n",
        "predictions = model_KNC_B.predict(X_test)\n",
        "print('BANK B')\n",
        "print(precision_recall_fscore_support(Y_test, predictions, average='binary', beta = 2))\n",
        "print(confusion_matrix(Y_test, predictions))\n",
        "filename = 'model_B.pkl'\n",
        "pickle.dump(model_KNC_B, open(filename, 'wb'))\n",
        "print(' ')\n",
        "\n",
        "model_KNC_C = KNeighborsClassifier(n_neighbors = neighbors)\n",
        "X_train, X_test, Y_train, Y_test = train_test_split(X_C, Y_C, test_size = 0.3, random_state = 42)\n",
        "model_KNC_C.fit(X_train, Y_train)\n",
        "predictions = model_KNC_C.predict(X_test)\n",
        "print('BANK C')\n",
        "print(precision_recall_fscore_support(Y_test, predictions, average='binary', beta = 2))\n",
        "print(confusion_matrix(Y_test, predictions))\n",
        "filename = 'model_C.pkl'\n",
        "pickle.dump(model_KNC_C, open(filename, 'wb'))\n",
        "print(' ')\n",
        "\n",
        "model_KNC_D = KNeighborsClassifier(n_neighbors = neighbors)\n",
        "X_train, X_test, Y_train, Y_test = train_test_split(X_D, Y_D, test_size = 0.3, random_state = 42)\n",
        "model_KNC_D.fit(X_train, Y_train)\n",
        "predictions = model_KNC_D.predict(X_test)\n",
        "print('BANK D')\n",
        "print(precision_recall_fscore_support(Y_test, predictions, average='binary', beta = 2))\n",
        "print(confusion_matrix(Y_test, predictions))\n",
        "filename = 'model_D.pkl'\n",
        "pickle.dump(model_KNC_D, open(filename, 'wb'))\n",
        "print(' ')\n",
        "\n",
        "model_KNC_E = KNeighborsClassifier(n_neighbors = neighbors)\n",
        "X_train, X_test, Y_train, Y_test = train_test_split(X_E, Y_E, test_size = 0.3, random_state = 42)\n",
        "model_KNC_E.fit(X_train, Y_train)\n",
        "predictions = model_KNC_E.predict(X_test)\n",
        "print('BANK E')\n",
        "print(precision_recall_fscore_support(Y_test, predictions, average='binary', beta = 2))\n",
        "print(confusion_matrix(Y_test, predictions))\n",
        "filename = 'model_E.pkl'\n",
        "pickle.dump(model_KNC_E, open(filename, 'wb'))\n",
        "print(' ')\n"
      ],
      "metadata": {
        "colab": {
          "base_uri": "https://localhost:8080/",
          "height": 0
        },
        "outputId": "7ae6e338-3c30-4667-f116-1a46ddbcf35d",
        "id": "2p-pNNvqhfXQ"
      },
      "execution_count": 200,
      "outputs": [
        {
          "output_type": "stream",
          "name": "stdout",
          "text": [
            "BANK A\n",
            "(0.7674042093901781, 0.9680054458815521, 0.9199120196661923, None)\n",
            "[[  14  431]\n",
            " [  47 1422]]\n",
            " \n",
            "BANK B\n",
            "(0.759075907590759, 0.9491059147180193, 0.9038511920356301, None)\n",
            "[[  20  438]\n",
            " [  74 1380]]\n",
            " \n",
            "BANK C\n",
            "(0.7548913043478261, 0.9645833333333333, 0.9138157894736842, None)\n",
            "[[  26  451]\n",
            " [  51 1389]]\n",
            " \n",
            "BANK D\n",
            "(0.7613882863340564, 0.9682758620689655, 0.9183673469387754, None)\n",
            "[[  22  440]\n",
            " [  46 1404]]\n",
            " \n",
            "BANK E\n",
            "(0.7485127095727421, 0.9644599303135889, 0.9118460930293847, None)\n",
            "[[  14  465]\n",
            " [  51 1384]]\n",
            " \n"
          ]
        }
      ]
    }
  ]
}
